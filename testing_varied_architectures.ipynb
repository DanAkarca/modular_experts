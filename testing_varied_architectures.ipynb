{
  "nbformat": 4,
  "nbformat_minor": 0,
  "metadata": {
    "colab": {
      "provenance": [],
      "machine_shape": "hm",
      "gpuType": "L4",
      "authorship_tag": "ABX9TyMXe40tFS5nLK6Q850WDNRa",
      "include_colab_link": true
    },
    "kernelspec": {
      "name": "python3",
      "display_name": "Python 3"
    },
    "language_info": {
      "name": "python"
    },
    "accelerator": "GPU"
  },
  "cells": [
    {
      "cell_type": "markdown",
      "metadata": {
        "id": "view-in-github",
        "colab_type": "text"
      },
      "source": [
        "<a href=\"https://colab.research.google.com/github/DanAkarca/modular_experts/blob/main/testing_varied_architectures.ipynb\" target=\"_parent\"><img src=\"https://colab.research.google.com/assets/colab-badge.svg\" alt=\"Open In Colab\"/></a>"
      ]
    },
    {
      "cell_type": "markdown",
      "source": [
        "Experiement: Testing homogeneous, modular and heterogeneous modular mixture of network experiments"
      ],
      "metadata": {
        "id": "PVz_UJ8mn8f5"
      }
    },
    {
      "cell_type": "code",
      "source": [
        "import torch\n",
        "import torch.nn as nn\n",
        "import matplotlib.pyplot as plt\n",
        "import numpy as np\n",
        "from typing import List, Tuple, Dict\n",
        "import seaborn as sns\n",
        "from tqdm import tqdm\n",
        "import pandas as pd\n",
        "\n",
        "def generate_complex_patterns(num_samples: int, grid_size: int = 8) -> Tuple[torch.Tensor, torch.Tensor]:\n",
        "    \"\"\"Generate complex pattern completion data with biased sampling towards extreme densities\"\"\"\n",
        "    inputs = []\n",
        "    targets = []\n",
        "\n",
        "    # Define patterns and their target probabilities\n",
        "    pattern_configs = {\n",
        "        'sparse_stripes': {'spacing': 4, 'width': 1, 'prob': 0.2},      # Very sparse\n",
        "        'dense_stripes': {'spacing': 3, 'width': 2, 'prob': 0.2},       # Very dense\n",
        "        'sparse_blocks': {'density': 0.2, 'prob': 0.15},                # Very sparse\n",
        "        'dense_blocks': {'density': 0.8, 'prob': 0.15},                 # Very dense\n",
        "        'thin_spiral': {'thickness': 0.5, 'prob': 0.1},                 # Very sparse\n",
        "        'thick_spiral': {'thickness': 2.5, 'prob': 0.1},                # Very dense\n",
        "        'sparse_random': {'density': 0.1, 'prob': 0.05},                # Extremely sparse\n",
        "        'dense_random': {'density': 0.9, 'prob': 0.05}                  # Extremely dense\n",
        "    }\n",
        "\n",
        "    def create_stripes(size, spacing, width):\n",
        "        pattern = torch.zeros((size, size))\n",
        "        for i in range(size):\n",
        "            for j in range(size):\n",
        "                if (i + j) % spacing < width:\n",
        "                    pattern[i, j] = 1\n",
        "        return pattern\n",
        "\n",
        "    def create_blocks(size, density):\n",
        "        pattern = torch.zeros((size, size))\n",
        "        block_size = 2\n",
        "        num_blocks = size // block_size\n",
        "        for i in range(0, size, block_size):\n",
        "            for j in range(0, size, block_size):\n",
        "                if torch.rand(1).item() < density:\n",
        "                    pattern[i:i+block_size, j:j+block_size] = 1\n",
        "        return pattern\n",
        "\n",
        "    def create_spiral(size, thickness):\n",
        "        pattern = torch.zeros((size, size))\n",
        "        center = size // 2\n",
        "        for i in range(size):\n",
        "            for j in range(size):\n",
        "                x, y = i - center, j - center\n",
        "                r = np.sqrt(x*x + y*y)\n",
        "                angle = np.arctan2(y, x)\n",
        "                if angle < 0:\n",
        "                    angle += 2 * np.pi\n",
        "                a = 2\n",
        "                theta = r / a\n",
        "                spiral_r = a * (angle / (2 * np.pi))\n",
        "                if abs(r - spiral_r) < thickness:\n",
        "                    pattern[i, j] = 1\n",
        "        return pattern\n",
        "\n",
        "    def create_random_pattern(size, density):\n",
        "        return (torch.rand((size, size)) < density).float()\n",
        "\n",
        "    probabilities = [config['prob'] for config in pattern_configs.values()]\n",
        "    pattern_types = list(pattern_configs.keys())\n",
        "\n",
        "    for _ in range(num_samples):\n",
        "        # Sample pattern type according to specified probabilities\n",
        "        pattern_type = np.random.choice(pattern_types, p=probabilities)\n",
        "        config = pattern_configs[pattern_type]\n",
        "\n",
        "        # Generate pattern based on type\n",
        "        if 'stripes' in pattern_type:\n",
        "            pattern = create_stripes(grid_size, config['spacing'], config['width'])\n",
        "        elif 'blocks' in pattern_type:\n",
        "            pattern = create_blocks(grid_size, config['density'])\n",
        "        elif 'spiral' in pattern_type:\n",
        "            pattern = create_spiral(grid_size, config['thickness'])\n",
        "        else:  # random\n",
        "            pattern = create_random_pattern(grid_size, config['density'])\n",
        "\n",
        "        # Create masked input with biased masking\n",
        "        masked = pattern.clone()\n",
        "\n",
        "        if np.random.random() < 0.3:\n",
        "            # Block masking with varying sizes\n",
        "            block_size = np.random.randint(2, 4)\n",
        "            num_blocks = np.random.randint(1, 3)\n",
        "\n",
        "            for _ in range(num_blocks):\n",
        "                start_i = np.random.randint(0, grid_size - block_size)\n",
        "                start_j = np.random.randint(0, grid_size - block_size)\n",
        "                masked[start_i:start_i+block_size, start_j:start_j+block_size] = 0\n",
        "        else:\n",
        "            # Biased random masking\n",
        "            density = pattern.mean().item()\n",
        "            if density > 0.5:\n",
        "                # For dense patterns, mask more 1s\n",
        "                mask = torch.rand(grid_size, grid_size) > (0.7 * pattern + 0.1)\n",
        "            else:\n",
        "                # For sparse patterns, mask more 0s\n",
        "                mask = torch.rand(grid_size, grid_size) > (0.7 * (1 - pattern) + 0.1)\n",
        "\n",
        "            masked[mask] = 0\n",
        "\n",
        "        inputs.append(masked.flatten())\n",
        "        targets.append(pattern.flatten())\n",
        "\n",
        "    return torch.stack(inputs), torch.stack(targets)\n",
        "\n",
        "def analyze_pattern_statistics(num_samples=1000, grid_size=8):\n",
        "    \"\"\"Analyze the statistics of generated patterns\"\"\"\n",
        "    inputs, targets = generate_complex_patterns(num_samples, grid_size)\n",
        "\n",
        "    # Overall statistics\n",
        "    mean_density = targets.mean().item()\n",
        "    std_density = targets.std().item()\n",
        "\n",
        "    print(f\"Pattern Statistics:\")\n",
        "    print(f\"Mean density: {mean_density:.3f}\")\n",
        "    print(f\"Std density: {std_density:.3f}\")\n",
        "    print(f\"Random baseline accuracy: {max(mean_density, 1-mean_density)*100:.1f}%\")\n",
        "\n",
        "    # Visualize some examples\n",
        "    fig, axs = plt.subplots(4, 4, figsize=(12, 12))\n",
        "    fig.suptitle(\"Sample Patterns\")\n",
        "\n",
        "    for i in range(4):\n",
        "        for j in range(4):\n",
        "            idx = i * 4 + j\n",
        "            if idx < len(targets):\n",
        "                axs[i, j].imshow(targets[idx].reshape(grid_size, grid_size), cmap='Blues')\n",
        "                density = targets[idx].mean().item()\n",
        "                axs[i, j].set_title(f'Density: {density:.2f}')\n",
        "                axs[i, j].axis('off')\n",
        "\n",
        "    plt.tight_layout()\n",
        "    plt.show()\n",
        "\n",
        "class BaseExpert(nn.Module):\n",
        "    def __init__(self, input_size: int, hidden_size: int, output_size: int):\n",
        "        super().__init__()\n",
        "        self.net = nn.Sequential(\n",
        "            nn.Linear(input_size, hidden_size),\n",
        "            nn.ReLU(),\n",
        "            nn.Linear(hidden_size, hidden_size),\n",
        "            nn.ReLU(),\n",
        "            nn.Linear(hidden_size, output_size),\n",
        "        )\n",
        "        self.param_count = sum(p.numel() for p in self.parameters())\n",
        "\n",
        "    def forward(self, x):\n",
        "        return torch.sigmoid(self.net(x))\n",
        "\n",
        "class HomogeneousNetwork(nn.Module):\n",
        "    def __init__(self, input_size: int, total_params: int):\n",
        "        super().__init__()\n",
        "        self.hidden_size = total_params // (3 * input_size)\n",
        "        self.expert = BaseExpert(input_size, self.hidden_size, input_size)\n",
        "\n",
        "    def forward(self, x):\n",
        "        return self.expert(x)\n",
        "\n",
        "class ModularHomogeneous(nn.Module):\n",
        "    def __init__(self, input_size: int, total_params: int, num_experts: int):\n",
        "        super().__init__()\n",
        "        self.hidden_size = total_params // (3 * input_size * num_experts)\n",
        "        self.num_experts = num_experts\n",
        "        self.input_size = input_size\n",
        "\n",
        "        self.experts = nn.ModuleList([\n",
        "            BaseExpert(input_size, self.hidden_size, input_size)\n",
        "            for _ in range(num_experts)\n",
        "        ])\n",
        "        self.router = nn.Sequential(\n",
        "            nn.Linear(input_size, 128),\n",
        "            nn.ReLU(),\n",
        "            nn.Linear(128, num_experts)\n",
        "        )\n",
        "\n",
        "    def forward(self, x):\n",
        "        batch_size = x.shape[0] if len(x.shape) > 1 else 1\n",
        "        if len(x.shape) == 1:\n",
        "            x = x.unsqueeze(0)\n",
        "\n",
        "        routing_weights = torch.softmax(self.router(x), dim=-1)\n",
        "        expert_outputs = torch.stack([expert(x) for expert in self.experts])\n",
        "        expert_outputs = expert_outputs.permute(1, 0, 2)\n",
        "        routing_weights = routing_weights.unsqueeze(-1)\n",
        "\n",
        "        output = torch.sum(routing_weights * expert_outputs, dim=1)\n",
        "        return output.squeeze(0) if batch_size == 1 else output\n",
        "\n",
        "class ModularHeterogeneous(nn.Module):\n",
        "    def __init__(self, input_size: int, total_params: int, expert_ratios: List[float]):\n",
        "        super().__init__()\n",
        "        self.input_size = input_size\n",
        "        self.num_experts = len(expert_ratios)\n",
        "\n",
        "        total_ratio = sum(expert_ratios)\n",
        "        expert_sizes = [int((ratio/total_ratio) * total_params // (3 * input_size))\n",
        "                       for ratio in expert_ratios]\n",
        "\n",
        "        self.experts = nn.ModuleList([\n",
        "            BaseExpert(input_size, size, input_size)\n",
        "            for size in expert_sizes\n",
        "        ])\n",
        "\n",
        "        self.router = nn.Sequential(\n",
        "            nn.Linear(input_size, 128),\n",
        "            nn.ReLU(),\n",
        "            nn.Linear(128, self.num_experts)\n",
        "        )\n",
        "\n",
        "    def forward(self, x):\n",
        "        batch_size = x.shape[0] if len(x.shape) > 1 else 1\n",
        "        if len(x.shape) == 1:\n",
        "            x = x.unsqueeze(0)\n",
        "\n",
        "        routing_weights = torch.softmax(self.router(x), dim=-1)\n",
        "        expert_outputs = torch.stack([expert(x) for expert in self.experts])\n",
        "        expert_outputs = expert_outputs.permute(1, 0, 2)\n",
        "        routing_weights = routing_weights.unsqueeze(-1)\n",
        "\n",
        "        output = torch.sum(routing_weights * expert_outputs, dim=1)\n",
        "        return output.squeeze(0) if batch_size == 1 else output\n",
        "\n",
        "def calculate_pattern_accuracy(outputs: torch.Tensor, targets: torch.Tensor, threshold: float = 0.5) -> float:\n",
        "    \"\"\"Calculate pattern-wise accuracy - a pattern is correct only if all pixels match\"\"\"\n",
        "    predictions = (outputs > threshold).float()\n",
        "    targets = (targets > threshold).float()\n",
        "    correct_patterns = torch.all(predictions == targets, dim=1)\n",
        "    return correct_patterns.float().mean().item() * 100\n",
        "\n",
        "def calculate_random_baseline(targets: torch.Tensor) -> float:\n",
        "    \"\"\"Calculate random baseline for pattern-wise accuracy\"\"\"\n",
        "    p_ones = targets.mean().item()\n",
        "    p_zeros = 1 - p_ones\n",
        "    p_correct_pixel = max(p_ones, p_zeros)\n",
        "    num_pixels = targets.shape[1]  # Number of pixels in each pattern\n",
        "    return (p_correct_pixel ** num_pixels) * 100  # Probability of getting all pixels correct\n",
        "\n",
        "def train_and_evaluate(model, train_data, train_targets, val_data, val_targets, epochs=100):\n",
        "    optimizer = torch.optim.Adam(model.parameters(), lr=0.001)\n",
        "    criterion = nn.BCELoss()\n",
        "    scheduler = torch.optim.lr_scheduler.ReduceLROnPlateau(optimizer, 'min', patience=10)\n",
        "\n",
        "    train_loss_history = []\n",
        "    train_acc_history = []\n",
        "    val_loss_history = []\n",
        "    val_acc_history = []\n",
        "\n",
        "    best_val_loss = float('inf')\n",
        "    best_state_dict = None\n",
        "\n",
        "    for epoch in tqdm(range(epochs)):\n",
        "        # Training\n",
        "        model.train()\n",
        "        optimizer.zero_grad()\n",
        "\n",
        "        outputs = torch.sigmoid(model(train_data))\n",
        "        loss = criterion(outputs, train_targets)\n",
        "        loss.backward()\n",
        "        torch.nn.utils.clip_grad_norm_(model.parameters(), max_norm=1.0)\n",
        "        optimizer.step()\n",
        "\n",
        "        # Validation\n",
        "        model.eval()\n",
        "        with torch.no_grad():\n",
        "            val_outputs = torch.sigmoid(model(val_data))\n",
        "            val_loss = criterion(val_outputs, val_targets)\n",
        "\n",
        "            # Calculate pattern-wise accuracies\n",
        "            train_acc = calculate_pattern_accuracy(outputs, train_targets)\n",
        "            val_acc = calculate_pattern_accuracy(val_outputs, val_targets)\n",
        "\n",
        "            train_loss_history.append(loss.item())\n",
        "            train_acc_history.append(train_acc)\n",
        "            val_loss_history.append(val_loss.item())\n",
        "            val_acc_history.append(val_acc)\n",
        "\n",
        "            if val_loss < best_val_loss:\n",
        "                best_val_loss = val_loss\n",
        "                best_state_dict = model.state_dict().copy()\n",
        "\n",
        "            scheduler.step(val_loss)\n",
        "\n",
        "        if epoch % 10 == 0:\n",
        "            print(f'\\nEpoch {epoch}/{epochs}:')\n",
        "            print(f'Train Loss: {loss.item():.4f}, Train Pattern Acc: {train_acc:.2f}%')\n",
        "            print(f'Val Loss: {val_loss.item():.4f}, Val Pattern Acc: {val_acc:.2f}%')\n",
        "\n",
        "    model.load_state_dict(best_state_dict)\n",
        "    return {\n",
        "        'train_loss': train_loss_history,\n",
        "        'train_acc': train_acc_history,\n",
        "        'val_loss': val_loss_history,\n",
        "        'val_acc': val_acc_history\n",
        "    }\n",
        "\n",
        "def analyze_expert_usage(model: nn.Module, data: torch.Tensor, num_samples: int = 100) -> np.ndarray:\n",
        "    \"\"\"Analyze how different experts are used across different input patterns\"\"\"\n",
        "    model.eval()\n",
        "    with torch.no_grad():\n",
        "        if hasattr(model, 'router'):\n",
        "            indices = np.random.choice(len(data), num_samples, replace=False)\n",
        "            samples = data[indices]\n",
        "            routing_weights = torch.softmax(model.router(samples), dim=-1)\n",
        "            return routing_weights.numpy()\n",
        "    return None\n",
        "\n",
        "def plot_enhanced_metrics(histories: Dict, epochs: int, random_baseline: float):\n",
        "    \"\"\"Plot enhanced training metrics with random baseline and confidence intervals\"\"\"\n",
        "    fig, ((ax1, ax2), (ax3, ax4)) = plt.subplots(2, 2, figsize=(15, 12))\n",
        "\n",
        "    # Color palette\n",
        "    colors = sns.color_palette(\"husl\", len(histories))\n",
        "\n",
        "    # Plot losses\n",
        "    for (name, history), color in zip(histories.items(), colors):\n",
        "        ax1.plot(history['train_loss'], label=f'{name} (Train)', color=color)\n",
        "        ax1.plot(history['val_loss'], label=f'{name} (Val)',\n",
        "                linestyle='--', color=color, alpha=0.7)\n",
        "\n",
        "    ax1.set_title('Loss Over Time', fontsize=12, pad=10)\n",
        "    ax1.set_xlabel('Epoch')\n",
        "    ax1.set_ylabel('Loss (BCE)')\n",
        "    ax1.set_yscale('log')\n",
        "    ax1.grid(True, alpha=0.3)\n",
        "    ax1.legend(bbox_to_anchor=(1.05, 1), loc='upper left')\n",
        "\n",
        "    # Plot accuracies with baseline\n",
        "    for (name, history), color in zip(histories.items(), colors):\n",
        "        ax2.plot(history['train_acc'], label=f'{name} (Train)', color=color)\n",
        "        ax2.plot(history['val_acc'], label=f'{name} (Val)',\n",
        "                linestyle='--', color=color, alpha=0.7)\n",
        "\n",
        "    # Add random baseline\n",
        "    ax2.axhline(y=random_baseline, color='red', linestyle=':',\n",
        "                label='Random Baseline', alpha=0.7)\n",
        "\n",
        "    ax2.set_title('Accuracy Over Time', fontsize=12, pad=10)\n",
        "    ax2.set_xlabel('Epoch')\n",
        "    ax2.set_ylabel('Accuracy (%)')\n",
        "    ax2.grid(True, alpha=0.3)\n",
        "    ax2.legend(bbox_to_anchor=(1.05, 1), loc='upper left')\n",
        "\n",
        "    # Plot final performance comparison\n",
        "    model_names = list(histories.keys())\n",
        "    final_train_acc = [hist['train_acc'][-1] for hist in histories.values()]\n",
        "    final_val_acc = [hist['val_acc'][-1] for hist in histories.values()]\n",
        "\n",
        "    x = np.arange(len(model_names))\n",
        "    width = 0.35\n",
        "\n",
        "    bars1 = ax3.bar(x - width/2, final_train_acc, width, label='Train')\n",
        "    bars2 = ax3.bar(x + width/2, final_val_acc, width, label='Validation')\n",
        "    ax3.axhline(y=random_baseline, color='red', linestyle=':',\n",
        "                label='Random Baseline', alpha=0.7)\n",
        "\n",
        "    ax3.set_title('Final Model Performance', fontsize=12, pad=10)\n",
        "    ax3.set_xticks(x)\n",
        "    ax3.set_xticklabels(model_names, rotation=45, ha='right')\n",
        "    ax3.set_ylabel('Accuracy (%)')\n",
        "    ax3.grid(True, alpha=0.3)\n",
        "    ax3.legend()\n",
        "\n",
        "    # Add value labels on bars\n",
        "    def autolabel(bars):\n",
        "        for bar in bars:\n",
        "            height = bar.get_height()\n",
        "            ax3.annotate(f'{height:.1f}%',\n",
        "                        xy=(bar.get_x() + bar.get_width() / 2, height),\n",
        "                        xytext=(0, 3),\n",
        "                        textcoords=\"offset points\",\n",
        "                        ha='center', va='bottom')\n",
        "\n",
        "    autolabel(bars1)\n",
        "    autolabel(bars2)\n",
        "\n",
        "    # Keep ax4 for expert usage plot\n",
        "    ax4.set_title('Expert Usage Analysis', fontsize=12, pad=10)\n",
        "    plt.tight_layout()\n",
        "    return fig, (ax1, ax2, ax3, ax4)\n",
        "\n",
        "def plot_expert_usage_patterns(ax, expert_weights: np.ndarray, model_name: str):\n",
        "    \"\"\"Plot expert usage patterns with enhanced visualization\"\"\"\n",
        "    if expert_weights is None:\n",
        "        ax.text(0.5, 0.5, 'No expert data available\\n(Homogeneous Model)',\n",
        "                ha='center', va='center')\n",
        "        return\n",
        "\n",
        "    # Calculate mean usage and confidence intervals\n",
        "    mean_usage = expert_weights.mean(axis=0)\n",
        "    std_usage = expert_weights.std(axis=0)\n",
        "\n",
        "    # Create violin plot\n",
        "    parts = ax.violinplot([expert_weights[:, i] for i in range(expert_weights.shape[1])],\n",
        "                         showmeans=True, showextrema=True)\n",
        "\n",
        "    # Customize violin plot\n",
        "    colors = sns.color_palette(\"husl\", expert_weights.shape[1])\n",
        "    for i, pc in enumerate(parts['bodies']):\n",
        "        pc.set_facecolor(colors[i])\n",
        "        pc.set_alpha(0.7)\n",
        "\n",
        "    parts['cmeans'].set_color('red')\n",
        "    parts['cmins'].set_color('black')\n",
        "    parts['cmaxes'].set_color('black')\n",
        "\n",
        "    # Add mean values as text\n",
        "    for i, mean in enumerate(mean_usage):\n",
        "        ax.text(i+1, mean, f'{mean:.2f}',\n",
        "                ha='center', va='bottom')\n",
        "\n",
        "    ax.set_xticks(np.arange(1, len(mean_usage) + 1))\n",
        "    ax.set_xticklabels([f'Expert {i+1}' for i in range(len(mean_usage))])\n",
        "    ax.set_ylabel('Expert Usage Weight')\n",
        "    ax.set_title(f'Expert Usage Distribution - {model_name}')\n",
        "    ax.grid(True, alpha=0.3)\n",
        "\n",
        "def visualize_pattern_completion(model: nn.Module,\n",
        "                               test_data: torch.Tensor,\n",
        "                               test_targets: torch.Tensor,\n",
        "                               model_name: str,\n",
        "                               grid_size: int = 8,\n",
        "                               num_examples: int = 5):\n",
        "    \"\"\"Visualize pattern completion results with enhanced presentation\"\"\"\n",
        "    model.eval()\n",
        "    with torch.no_grad():\n",
        "        test_outputs = torch.sigmoid(model(test_data))  # Added sigmoid here\n",
        "\n",
        "    fig = plt.figure(figsize=(15, 6))\n",
        "    plt.suptitle(f'Pattern Completion Results - {model_name}', fontsize=14, y=1.02)\n",
        "\n",
        "    # Create a custom colormap with white background\n",
        "    cmap = plt.cm.Blues\n",
        "    cmap.set_bad(color='red', alpha=0.5)\n",
        "\n",
        "    for i in range(num_examples):\n",
        "        # Input\n",
        "        ax1 = plt.subplot(3, num_examples, i + 1)\n",
        "        sns.heatmap(test_data[i].reshape(grid_size, grid_size),\n",
        "                   cmap=cmap, cbar=False, square=True, ax=ax1)\n",
        "        if i == 0:\n",
        "            ax1.set_ylabel('Input')\n",
        "        ax1.set_xticks([])\n",
        "        ax1.set_yticks([])\n",
        "\n",
        "        # Prediction\n",
        "        ax2 = plt.subplot(3, num_examples, i + 1 + num_examples)\n",
        "        sns.heatmap(test_outputs[i].reshape(grid_size, grid_size),\n",
        "                   cmap=cmap, cbar=False, square=True, ax=ax2)\n",
        "        if i == 0:\n",
        "            ax2.set_ylabel('Prediction')\n",
        "        ax2.set_xticks([])\n",
        "        ax2.set_yticks([])\n",
        "\n",
        "        # Target\n",
        "        ax3 = plt.subplot(3, num_examples, i + 1 + 2*num_examples)\n",
        "        sns.heatmap(test_targets[i].reshape(grid_size, grid_size),\n",
        "                   cmap=cmap, cbar=False, square=True, ax=ax3)\n",
        "        if i == 0:\n",
        "            ax3.set_ylabel('Target')\n",
        "        ax3.set_xticks([])\n",
        "        ax3.set_yticks([])\n",
        "\n",
        "        # Add accuracy score for this example\n",
        "        acc = (test_outputs[i].round() == test_targets[i]).float().mean().item()\n",
        "        plt.text(grid_size/2, -1, f'Acc: {acc:.1%}',\n",
        "                ha='center', va='center', transform=ax3.transData)\n",
        "\n",
        "    plt.tight_layout()\n",
        "    return fig\n",
        "\n",
        "def visualize_expert_specialization(model: nn.Module,\n",
        "                                  data: torch.Tensor,\n",
        "                                  grid_size: int = 8,\n",
        "                                  num_patterns: int = 5):\n",
        "    \"\"\"Visualize what patterns each expert specializes in\"\"\"\n",
        "    if not hasattr(model, 'router'):\n",
        "        return None\n",
        "\n",
        "    model.eval()\n",
        "    with torch.no_grad():\n",
        "        # Get routing weights for all patterns\n",
        "        routing_weights = torch.softmax(model.router(data), dim=-1)\n",
        "\n",
        "        # For each expert, find patterns where it has highest activation\n",
        "        num_experts = routing_weights.shape[1]\n",
        "        expert_patterns = []\n",
        "\n",
        "        for expert_idx in range(num_experts):\n",
        "            # Get patterns where this expert has highest weight\n",
        "            expert_weight = routing_weights[:, expert_idx]\n",
        "            top_pattern_indices = torch.argsort(expert_weight, descending=True)[:num_patterns]\n",
        "            expert_patterns.append({\n",
        "                'patterns': data[top_pattern_indices],\n",
        "                'weights': expert_weight[top_pattern_indices]\n",
        "            })\n",
        "\n",
        "    # Visualize patterns for each expert\n",
        "    fig = plt.figure(figsize=(15, 3*num_experts))\n",
        "    plt.suptitle('Expert Specialization Analysis', fontsize=14, y=1.02)\n",
        "\n",
        "    for expert_idx, patterns_data in enumerate(expert_patterns):\n",
        "        patterns = patterns_data['patterns']\n",
        "        weights = patterns_data['weights']\n",
        "\n",
        "        for j in range(num_patterns):\n",
        "            ax = plt.subplot(num_experts, num_patterns, expert_idx*num_patterns + j + 1)\n",
        "            sns.heatmap(patterns[j].reshape(grid_size, grid_size),\n",
        "                       cmap='Blues', cbar=False, square=True, ax=ax)\n",
        "            ax.set_xticks([])\n",
        "            ax.set_yticks([])\n",
        "            if j == 0:\n",
        "                ax.set_ylabel(f'Expert {expert_idx + 1}')\n",
        "            plt.title(f'w={weights[j]:.2f}', fontsize=10)\n",
        "\n",
        "    plt.tight_layout()\n",
        "    return fig\n",
        "\n",
        "def plot_all_visualizations(models: Dict[str, nn.Module],\n",
        "                          histories: Dict[str, Dict],\n",
        "                          data: torch.Tensor,\n",
        "                          targets: torch.Tensor,\n",
        "                          test_data: torch.Tensor,\n",
        "                          test_targets: torch.Tensor,\n",
        "                          epochs: int,\n",
        "                          grid_size: int = 8):\n",
        "    \"\"\"Create all visualizations for the pattern completion task\"\"\"\n",
        "\n",
        "    # Calculate random baseline\n",
        "    random_baseline = calculate_random_baseline(targets)\n",
        "    print(f\"Random Baseline Accuracy: {random_baseline:.2f}%\")\n",
        "\n",
        "    # Create main metrics plot\n",
        "    fig, (ax1, ax2, ax3, ax4) = plot_enhanced_metrics(histories, epochs, random_baseline)\n",
        "\n",
        "    # Analyze and plot expert usage for modular models\n",
        "    for name, model in models.items():\n",
        "        if 'Modular' in name:\n",
        "            expert_weights = analyze_expert_usage(model, data)\n",
        "            if expert_weights is not None:\n",
        "                plot_expert_usage_patterns(ax4, expert_weights, name)\n",
        "\n",
        "    plt.show()\n",
        "\n",
        "    # Plot pattern completion visualizations for each model\n",
        "    for name, model in models.items():\n",
        "        fig = visualize_pattern_completion(model, test_data, test_targets, name, grid_size)\n",
        "        plt.show()\n",
        "\n",
        "        # Plot expert specialization for modular models\n",
        "        if 'Modular' in name:\n",
        "            fig = visualize_expert_specialization(model, data, grid_size)\n",
        "            if fig is not None:\n",
        "                plt.show()"
      ],
      "metadata": {
        "id": "0s_JDUb2n5rn"
      },
      "execution_count": 23,
      "outputs": []
    },
    {
      "cell_type": "code",
      "source": [
        "def run_pattern_completion_experiment():\n",
        "    \"\"\"Run the complete pattern completion experiment\"\"\"\n",
        "\n",
        "    # Set random seeds for reproducibility\n",
        "    torch.manual_seed(42)\n",
        "    np.random.seed(42)\n",
        "\n",
        "    # Set parameters\n",
        "    grid_size = 8\n",
        "    input_size = grid_size * grid_size  # 64 for 8x8 grid\n",
        "    total_params = 10000  # Increased parameter count for harder task\n",
        "    num_experts = 4\n",
        "    num_epochs = 1000  # Reduced for demonstration\n",
        "\n",
        "    # Generate data\n",
        "    print(\"Generating datasets...\")\n",
        "    train_size = 1000\n",
        "    val_size = 200\n",
        "    test_size = 50\n",
        "\n",
        "    train_data, train_targets = generate_complex_patterns(train_size, grid_size)\n",
        "    val_data, val_targets = generate_complex_patterns(val_size, grid_size)\n",
        "    test_data, test_targets = generate_complex_patterns(test_size, grid_size)\n",
        "\n",
        "    # Calculate and display random baseline\n",
        "    random_baseline = calculate_random_baseline(train_targets)\n",
        "    print(f\"Random Baseline Accuracy: {random_baseline:.2f}%\")\n",
        "\n",
        "    # Initialize models\n",
        "    print(\"\\nInitializing models...\")\n",
        "    homogeneous = HomogeneousNetwork(input_size, total_params)\n",
        "    mod_homogeneous = ModularHomogeneous(input_size, total_params, num_experts)\n",
        "    expert_ratios = [0.4, 0.3, 0.2, 0.1]  # Different sizes for heterogeneous experts\n",
        "    mod_heterogeneous = ModularHeterogeneous(input_size, total_params, expert_ratios)\n",
        "\n",
        "    models = {\n",
        "        'Homogeneous': homogeneous,\n",
        "        'Modular Homogeneous': mod_homogeneous,\n",
        "        'Modular Heterogeneous': mod_heterogeneous\n",
        "    }\n",
        "\n",
        "    # Train all models\n",
        "    print(\"\\nTraining models...\")\n",
        "    histories = {}\n",
        "\n",
        "    for name, model in models.items():\n",
        "        print(f\"\\nTraining {name} model...\")\n",
        "        history = train_and_evaluate(\n",
        "            model=model,\n",
        "            train_data=train_data,\n",
        "            train_targets=train_targets,\n",
        "            val_data=val_data,\n",
        "            val_targets=val_targets,\n",
        "            epochs=num_epochs\n",
        "        )\n",
        "        histories[name] = history\n",
        "\n",
        "    # Create all visualizations\n",
        "    print(\"\\nGenerating visualizations...\")\n",
        "    plot_all_visualizations(\n",
        "        models=models,\n",
        "        histories=histories,\n",
        "        data=train_data,\n",
        "        targets=train_targets,\n",
        "        test_data=test_data,\n",
        "        test_targets=test_targets,\n",
        "        epochs=num_epochs,\n",
        "        grid_size=grid_size\n",
        "    )\n",
        "\n",
        "    # Print final performance summary\n",
        "    print(\"\\nFinal Performance Summary:\")\n",
        "    print(\"-\" * 50)\n",
        "    for name, history in histories.items():\n",
        "        final_train_acc = history['train_acc'][-1]\n",
        "        final_val_acc = history['val_acc'][-1]\n",
        "        print(f\"{name}:\")\n",
        "        print(f\"  Train Accuracy: {final_train_acc:.2f}%\")\n",
        "        print(f\"  Validation Accuracy: {final_val_acc:.2f}%\")\n",
        "        print(f\"  Improvement over random: {final_val_acc - random_baseline:.2f}%\")\n",
        "        print(\"-\" * 50)\n",
        "\n",
        "    return models, histories\n",
        "\n",
        "if __name__ == \"__main__\":\n",
        "    print(\"Starting Pattern Completion Experiment...\")\n",
        "    print(\"=\" * 50)\n",
        "\n",
        "    # Check if CUDA is available\n",
        "    device = torch.device(\"cuda\" if torch.cuda.is_available() else \"cpu\")\n",
        "    print(f\"Using device: {device}\")\n",
        "\n",
        "    try:\n",
        "        # Run the experiment\n",
        "        models, histories = run_pattern_completion_experiment()\n",
        "        print(\"\\nExperiment completed successfully!\")\n",
        "\n",
        "    except Exception as e:\n",
        "        print(f\"\\nAn error occurred during the experiment:\")\n",
        "        print(f\"Error: {str(e)}\")\n",
        "        raise"
      ],
      "metadata": {
        "colab": {
          "base_uri": "https://localhost:8080/",
          "height": 1000
        },
        "id": "HJT0I6mgoNgy",
        "outputId": "a80779eb-4cbe-47de-9eba-e0d5be07f60f"
      },
      "execution_count": 24,
      "outputs": [
        {
          "output_type": "stream",
          "name": "stdout",
          "text": [
            "Starting Pattern Completion Experiment...\n",
            "==================================================\n",
            "Using device: cuda\n",
            "Generating datasets...\n",
            "Random Baseline Accuracy: 0.00%\n",
            "\n",
            "Initializing models...\n",
            "\n",
            "Training models...\n",
            "\n",
            "Training Homogeneous model...\n"
          ]
        },
        {
          "output_type": "stream",
          "name": "stderr",
          "text": [
            "  2%|▏         | 20/1000 [00:00<00:04, 197.59it/s]"
          ]
        },
        {
          "output_type": "stream",
          "name": "stdout",
          "text": [
            "\n",
            "Epoch 0/1000:\n",
            "Train Loss: 0.7475, Train Pattern Acc: 0.50%\n",
            "Val Loss: 0.7581, Val Pattern Acc: 0.50%\n",
            "\n",
            "Epoch 10/1000:\n",
            "Train Loss: 0.7436, Train Pattern Acc: 0.50%\n",
            "Val Loss: 0.7543, Val Pattern Acc: 0.50%\n",
            "\n",
            "Epoch 20/1000:\n",
            "Train Loss: 0.7356, Train Pattern Acc: 0.50%\n",
            "Val Loss: 0.7466, Val Pattern Acc: 0.50%\n",
            "\n",
            "Epoch 30/1000:\n",
            "Train Loss: 0.7194, Train Pattern Acc: 0.50%\n",
            "Val Loss: 0.7321, Val Pattern Acc: 0.50%\n"
          ]
        },
        {
          "output_type": "stream",
          "name": "stderr",
          "text": [
            "  6%|▌         | 60/1000 [00:00<00:05, 179.55it/s]"
          ]
        },
        {
          "output_type": "stream",
          "name": "stdout",
          "text": [
            "\n",
            "Epoch 40/1000:\n",
            "Train Loss: 0.6979, Train Pattern Acc: 0.50%\n",
            "Val Loss: 0.7132, Val Pattern Acc: 0.50%\n",
            "\n",
            "Epoch 50/1000:\n",
            "Train Loss: 0.6784, Train Pattern Acc: 0.50%\n",
            "Val Loss: 0.6938, Val Pattern Acc: 0.50%\n",
            "\n",
            "Epoch 60/1000:\n",
            "Train Loss: 0.6610, Train Pattern Acc: 0.50%\n",
            "Val Loss: 0.6757, Val Pattern Acc: 0.50%\n",
            "\n",
            "Epoch 70/1000:\n",
            "Train Loss: 0.6445, Train Pattern Acc: 0.50%\n",
            "Val Loss: 0.6580, Val Pattern Acc: 0.50%\n"
          ]
        },
        {
          "output_type": "stream",
          "name": "stderr",
          "text": [
            " 10%|▉         | 99/1000 [00:00<00:04, 181.95it/s]"
          ]
        },
        {
          "output_type": "stream",
          "name": "stdout",
          "text": [
            "\n",
            "Epoch 80/1000:\n",
            "Train Loss: 0.6291, Train Pattern Acc: 0.50%\n",
            "Val Loss: 0.6416, Val Pattern Acc: 0.50%\n",
            "\n",
            "Epoch 90/1000:\n",
            "Train Loss: 0.6158, Train Pattern Acc: 0.50%\n",
            "Val Loss: 0.6280, Val Pattern Acc: 0.50%\n",
            "\n",
            "Epoch 100/1000:\n",
            "Train Loss: 0.6057, Train Pattern Acc: 0.40%\n",
            "Val Loss: 0.6180, Val Pattern Acc: 0.50%\n",
            "\n",
            "Epoch 110/1000:\n",
            "Train Loss: 0.5982, Train Pattern Acc: 0.40%\n",
            "Val Loss: 0.6107, Val Pattern Acc: 0.50%\n"
          ]
        },
        {
          "output_type": "stream",
          "name": "stderr",
          "text": [
            " 16%|█▌        | 158/1000 [00:00<00:04, 183.91it/s]"
          ]
        },
        {
          "output_type": "stream",
          "name": "stdout",
          "text": [
            "\n",
            "Epoch 120/1000:\n",
            "Train Loss: 0.5931, Train Pattern Acc: 0.30%\n",
            "Val Loss: 0.6057, Val Pattern Acc: 0.50%\n",
            "\n",
            "Epoch 130/1000:\n",
            "Train Loss: 0.5897, Train Pattern Acc: 0.20%\n",
            "Val Loss: 0.6025, Val Pattern Acc: 0.50%\n",
            "\n",
            "Epoch 140/1000:\n",
            "Train Loss: 0.5873, Train Pattern Acc: 0.10%\n",
            "Val Loss: 0.6003, Val Pattern Acc: 0.00%\n",
            "\n",
            "Epoch 150/1000:\n",
            "Train Loss: 0.5854, Train Pattern Acc: 0.10%\n",
            "Val Loss: 0.5987, Val Pattern Acc: 0.00%\n"
          ]
        },
        {
          "output_type": "stream",
          "name": "stderr",
          "text": [
            " 20%|█▉        | 197/1000 [00:01<00:04, 181.32it/s]"
          ]
        },
        {
          "output_type": "stream",
          "name": "stdout",
          "text": [
            "\n",
            "Epoch 160/1000:\n",
            "Train Loss: 0.5840, Train Pattern Acc: 0.10%\n",
            "Val Loss: 0.5976, Val Pattern Acc: 0.00%\n",
            "\n",
            "Epoch 170/1000:\n",
            "Train Loss: 0.5829, Train Pattern Acc: 0.00%\n",
            "Val Loss: 0.5967, Val Pattern Acc: 0.00%\n",
            "\n",
            "Epoch 180/1000:\n",
            "Train Loss: 0.5821, Train Pattern Acc: 0.00%\n",
            "Val Loss: 0.5961, Val Pattern Acc: 0.00%\n",
            "\n",
            "Epoch 190/1000:\n",
            "Train Loss: 0.5815, Train Pattern Acc: 0.00%\n",
            "Val Loss: 0.5956, Val Pattern Acc: 0.00%\n"
          ]
        },
        {
          "output_type": "stream",
          "name": "stderr",
          "text": [
            " 24%|██▎       | 236/1000 [00:01<00:04, 180.73it/s]"
          ]
        },
        {
          "output_type": "stream",
          "name": "stdout",
          "text": [
            "\n",
            "Epoch 200/1000:\n",
            "Train Loss: 0.5811, Train Pattern Acc: 0.00%\n",
            "Val Loss: 0.5952, Val Pattern Acc: 0.00%\n",
            "\n",
            "Epoch 210/1000:\n",
            "Train Loss: 0.5807, Train Pattern Acc: 0.00%\n",
            "Val Loss: 0.5950, Val Pattern Acc: 0.00%\n",
            "\n",
            "Epoch 220/1000:\n",
            "Train Loss: 0.5804, Train Pattern Acc: 0.00%\n",
            "Val Loss: 0.5947, Val Pattern Acc: 0.00%\n",
            "\n",
            "Epoch 230/1000:\n",
            "Train Loss: 0.5801, Train Pattern Acc: 0.00%\n",
            "Val Loss: 0.5946, Val Pattern Acc: 0.00%\n"
          ]
        },
        {
          "output_type": "stream",
          "name": "stderr",
          "text": [
            " 28%|██▊       | 275/1000 [00:01<00:04, 175.67it/s]"
          ]
        },
        {
          "output_type": "stream",
          "name": "stdout",
          "text": [
            "\n",
            "Epoch 240/1000:\n",
            "Train Loss: 0.5798, Train Pattern Acc: 0.00%\n",
            "Val Loss: 0.5944, Val Pattern Acc: 0.00%\n",
            "\n",
            "Epoch 250/1000:\n",
            "Train Loss: 0.5795, Train Pattern Acc: 0.00%\n",
            "Val Loss: 0.5942, Val Pattern Acc: 0.00%\n",
            "\n",
            "Epoch 260/1000:\n",
            "Train Loss: 0.5793, Train Pattern Acc: 0.00%\n",
            "Val Loss: 0.5941, Val Pattern Acc: 0.00%\n",
            "\n",
            "Epoch 270/1000:\n",
            "Train Loss: 0.5790, Train Pattern Acc: 0.00%\n",
            "Val Loss: 0.5939, Val Pattern Acc: 0.00%\n"
          ]
        },
        {
          "output_type": "stream",
          "name": "stderr",
          "text": [
            " 31%|███       | 310/1000 [00:01<00:04, 163.68it/s]"
          ]
        },
        {
          "output_type": "stream",
          "name": "stdout",
          "text": [
            "\n",
            "Epoch 280/1000:\n",
            "Train Loss: 0.5787, Train Pattern Acc: 0.00%\n",
            "Val Loss: 0.5938, Val Pattern Acc: 0.00%\n",
            "\n",
            "Epoch 290/1000:\n",
            "Train Loss: 0.5784, Train Pattern Acc: 0.00%\n",
            "Val Loss: 0.5936, Val Pattern Acc: 0.00%\n",
            "\n",
            "Epoch 300/1000:\n",
            "Train Loss: 0.5781, Train Pattern Acc: 0.00%\n",
            "Val Loss: 0.5935, Val Pattern Acc: 0.00%\n",
            "\n",
            "Epoch 310/1000:\n",
            "Train Loss: 0.5777, Train Pattern Acc: 0.00%\n",
            "Val Loss: 0.5933, Val Pattern Acc: 0.00%\n"
          ]
        },
        {
          "output_type": "stream",
          "name": "stderr",
          "text": [
            " 34%|███▍      | 343/1000 [00:01<00:04, 153.68it/s]"
          ]
        },
        {
          "output_type": "stream",
          "name": "stdout",
          "text": [
            "\n",
            "Epoch 320/1000:\n",
            "Train Loss: 0.5773, Train Pattern Acc: 0.00%\n",
            "Val Loss: 0.5931, Val Pattern Acc: 0.00%\n",
            "\n",
            "Epoch 330/1000:\n",
            "Train Loss: 0.5769, Train Pattern Acc: 0.00%\n",
            "Val Loss: 0.5930, Val Pattern Acc: 0.00%\n",
            "\n",
            "Epoch 340/1000:\n",
            "Train Loss: 0.5765, Train Pattern Acc: 0.00%\n",
            "Val Loss: 0.5927, Val Pattern Acc: 0.00%\n"
          ]
        },
        {
          "output_type": "stream",
          "name": "stderr",
          "text": [
            " 38%|███▊      | 375/1000 [00:02<00:04, 153.46it/s]"
          ]
        },
        {
          "output_type": "stream",
          "name": "stdout",
          "text": [
            "\n",
            "Epoch 350/1000:\n",
            "Train Loss: 0.5761, Train Pattern Acc: 0.00%\n",
            "Val Loss: 0.5925, Val Pattern Acc: 0.00%\n",
            "\n",
            "Epoch 360/1000:\n",
            "Train Loss: 0.5757, Train Pattern Acc: 0.00%\n",
            "Val Loss: 0.5923, Val Pattern Acc: 0.00%\n",
            "\n",
            "Epoch 370/1000:\n",
            "Train Loss: 0.5753, Train Pattern Acc: 0.00%\n",
            "Val Loss: 0.5921, Val Pattern Acc: 0.00%\n",
            "\n",
            "Epoch 380/1000:\n",
            "Train Loss: 0.5750, Train Pattern Acc: 0.00%\n",
            "Val Loss: 0.5919, Val Pattern Acc: 0.00%\n"
          ]
        },
        {
          "output_type": "stream",
          "name": "stderr",
          "text": [
            " 41%|████      | 407/1000 [00:02<00:03, 152.45it/s]"
          ]
        },
        {
          "output_type": "stream",
          "name": "stdout",
          "text": [
            "\n",
            "Epoch 390/1000:\n",
            "Train Loss: 0.5747, Train Pattern Acc: 0.00%\n",
            "Val Loss: 0.5917, Val Pattern Acc: 0.00%\n",
            "\n",
            "Epoch 400/1000:\n",
            "Train Loss: 0.5744, Train Pattern Acc: 0.00%\n",
            "Val Loss: 0.5916, Val Pattern Acc: 0.00%\n",
            "\n",
            "Epoch 410/1000:\n",
            "Train Loss: 0.5741, Train Pattern Acc: 0.00%\n",
            "Val Loss: 0.5915, Val Pattern Acc: 0.00%\n"
          ]
        },
        {
          "output_type": "stream",
          "name": "stderr",
          "text": [
            " 44%|████▍     | 439/1000 [00:02<00:03, 150.54it/s]"
          ]
        },
        {
          "output_type": "stream",
          "name": "stdout",
          "text": [
            "\n",
            "Epoch 420/1000:\n",
            "Train Loss: 0.5738, Train Pattern Acc: 0.00%\n",
            "Val Loss: 0.5913, Val Pattern Acc: 0.00%\n",
            "\n",
            "Epoch 430/1000:\n",
            "Train Loss: 0.5735, Train Pattern Acc: 0.00%\n",
            "Val Loss: 0.5912, Val Pattern Acc: 0.00%\n",
            "\n",
            "Epoch 440/1000:\n",
            "Train Loss: 0.5732, Train Pattern Acc: 0.00%\n",
            "Val Loss: 0.5910, Val Pattern Acc: 0.00%\n",
            "\n",
            "Epoch 450/1000:\n",
            "Train Loss: 0.5729, Train Pattern Acc: 0.00%\n",
            "Val Loss: 0.5909, Val Pattern Acc: 0.00%\n"
          ]
        },
        {
          "output_type": "stream",
          "name": "stderr",
          "text": [
            " 49%|████▊     | 487/1000 [00:02<00:03, 152.13it/s]"
          ]
        },
        {
          "output_type": "stream",
          "name": "stdout",
          "text": [
            "\n",
            "Epoch 460/1000:\n",
            "Train Loss: 0.5725, Train Pattern Acc: 0.00%\n",
            "Val Loss: 0.5907, Val Pattern Acc: 0.00%\n",
            "\n",
            "Epoch 470/1000:\n",
            "Train Loss: 0.5716, Train Pattern Acc: 0.00%\n",
            "Val Loss: 0.5899, Val Pattern Acc: 0.00%\n",
            "\n",
            "Epoch 480/1000:\n",
            "Train Loss: 0.5713, Train Pattern Acc: 0.00%\n",
            "Val Loss: 0.5897, Val Pattern Acc: 0.00%\n",
            "\n",
            "Epoch 490/1000:\n",
            "Train Loss: 0.5710, Train Pattern Acc: 0.00%\n",
            "Val Loss: 0.5896, Val Pattern Acc: 0.00%\n"
          ]
        },
        {
          "output_type": "stream",
          "name": "stderr",
          "text": [
            " 52%|█████▏    | 523/1000 [00:03<00:02, 165.14it/s]"
          ]
        },
        {
          "output_type": "stream",
          "name": "stdout",
          "text": [
            "\n",
            "Epoch 500/1000:\n",
            "Train Loss: 0.5708, Train Pattern Acc: 0.00%\n",
            "Val Loss: 0.5894, Val Pattern Acc: 0.00%\n",
            "\n",
            "Epoch 510/1000:\n",
            "Train Loss: 0.5705, Train Pattern Acc: 0.00%\n",
            "Val Loss: 0.5892, Val Pattern Acc: 0.00%\n",
            "\n",
            "Epoch 520/1000:\n",
            "Train Loss: 0.5703, Train Pattern Acc: 0.00%\n",
            "Val Loss: 0.5890, Val Pattern Acc: 0.00%\n",
            "\n",
            "Epoch 530/1000:\n",
            "Train Loss: 0.5700, Train Pattern Acc: 0.00%\n",
            "Val Loss: 0.5888, Val Pattern Acc: 0.00%\n"
          ]
        },
        {
          "output_type": "stream",
          "name": "stderr",
          "text": [
            " 56%|█████▌    | 561/1000 [00:03<00:02, 174.60it/s]"
          ]
        },
        {
          "output_type": "stream",
          "name": "stdout",
          "text": [
            "\n",
            "Epoch 540/1000:\n",
            "Train Loss: 0.5698, Train Pattern Acc: 0.00%\n",
            "Val Loss: 0.5886, Val Pattern Acc: 0.00%\n",
            "\n",
            "Epoch 550/1000:\n",
            "Train Loss: 0.5696, Train Pattern Acc: 0.00%\n",
            "Val Loss: 0.5883, Val Pattern Acc: 0.00%\n",
            "\n",
            "Epoch 560/1000:\n",
            "Train Loss: 0.5693, Train Pattern Acc: 0.00%\n",
            "Val Loss: 0.5881, Val Pattern Acc: 0.00%\n",
            "\n",
            "Epoch 570/1000:\n",
            "Train Loss: 0.5691, Train Pattern Acc: 0.00%\n",
            "Val Loss: 0.5879, Val Pattern Acc: 0.00%\n"
          ]
        },
        {
          "output_type": "stream",
          "name": "stderr",
          "text": [
            " 60%|██████    | 601/1000 [00:03<00:02, 186.33it/s]"
          ]
        },
        {
          "output_type": "stream",
          "name": "stdout",
          "text": [
            "\n",
            "Epoch 580/1000:\n",
            "Train Loss: 0.5688, Train Pattern Acc: 0.00%\n",
            "Val Loss: 0.5877, Val Pattern Acc: 0.00%\n",
            "\n",
            "Epoch 590/1000:\n",
            "Train Loss: 0.5686, Train Pattern Acc: 0.00%\n",
            "Val Loss: 0.5875, Val Pattern Acc: 0.00%\n",
            "\n",
            "Epoch 600/1000:\n",
            "Train Loss: 0.5683, Train Pattern Acc: 0.00%\n",
            "Val Loss: 0.5873, Val Pattern Acc: 0.00%\n",
            "\n",
            "Epoch 610/1000:\n",
            "Train Loss: 0.5681, Train Pattern Acc: 0.00%\n",
            "Val Loss: 0.5872, Val Pattern Acc: 0.00%\n"
          ]
        },
        {
          "output_type": "stream",
          "name": "stderr",
          "text": [
            " 66%|██████▌   | 659/1000 [00:03<00:01, 186.74it/s]"
          ]
        },
        {
          "output_type": "stream",
          "name": "stdout",
          "text": [
            "\n",
            "Epoch 620/1000:\n",
            "Train Loss: 0.5677, Train Pattern Acc: 0.00%\n",
            "Val Loss: 0.5869, Val Pattern Acc: 0.00%\n",
            "\n",
            "Epoch 630/1000:\n",
            "Train Loss: 0.5671, Train Pattern Acc: 0.00%\n",
            "Val Loss: 0.5866, Val Pattern Acc: 0.00%\n",
            "\n",
            "Epoch 640/1000:\n",
            "Train Loss: 0.5667, Train Pattern Acc: 0.00%\n",
            "Val Loss: 0.5862, Val Pattern Acc: 0.00%\n",
            "\n",
            "Epoch 650/1000:\n",
            "Train Loss: 0.5663, Train Pattern Acc: 0.00%\n",
            "Val Loss: 0.5859, Val Pattern Acc: 0.00%\n"
          ]
        },
        {
          "output_type": "stream",
          "name": "stderr",
          "text": [
            " 70%|██████▉   | 699/1000 [00:04<00:01, 190.47it/s]"
          ]
        },
        {
          "output_type": "stream",
          "name": "stdout",
          "text": [
            "\n",
            "Epoch 660/1000:\n",
            "Train Loss: 0.5657, Train Pattern Acc: 0.00%\n",
            "Val Loss: 0.5856, Val Pattern Acc: 0.00%\n",
            "\n",
            "Epoch 670/1000:\n",
            "Train Loss: 0.5650, Train Pattern Acc: 0.00%\n",
            "Val Loss: 0.5852, Val Pattern Acc: 0.00%\n",
            "\n",
            "Epoch 680/1000:\n",
            "Train Loss: 0.5645, Train Pattern Acc: 0.00%\n",
            "Val Loss: 0.5848, Val Pattern Acc: 0.00%\n",
            "\n",
            "Epoch 690/1000:\n",
            "Train Loss: 0.5641, Train Pattern Acc: 0.00%\n",
            "Val Loss: 0.5845, Val Pattern Acc: 0.00%\n"
          ]
        },
        {
          "output_type": "stream",
          "name": "stderr",
          "text": [
            " 74%|███████▍  | 739/1000 [00:04<00:01, 191.62it/s]"
          ]
        },
        {
          "output_type": "stream",
          "name": "stdout",
          "text": [
            "\n",
            "Epoch 700/1000:\n",
            "Train Loss: 0.5637, Train Pattern Acc: 0.00%\n",
            "Val Loss: 0.5843, Val Pattern Acc: 0.00%\n",
            "\n",
            "Epoch 710/1000:\n",
            "Train Loss: 0.5634, Train Pattern Acc: 0.00%\n",
            "Val Loss: 0.5841, Val Pattern Acc: 0.00%\n",
            "\n",
            "Epoch 720/1000:\n",
            "Train Loss: 0.5629, Train Pattern Acc: 0.00%\n",
            "Val Loss: 0.5838, Val Pattern Acc: 0.00%\n",
            "\n",
            "Epoch 730/1000:\n",
            "Train Loss: 0.5625, Train Pattern Acc: 0.00%\n",
            "Val Loss: 0.5837, Val Pattern Acc: 0.00%\n"
          ]
        },
        {
          "output_type": "stream",
          "name": "stderr",
          "text": [
            "\r 76%|███████▌  | 759/1000 [00:04<00:01, 187.55it/s]"
          ]
        },
        {
          "output_type": "stream",
          "name": "stdout",
          "text": [
            "\n",
            "Epoch 740/1000:\n",
            "Train Loss: 0.5622, Train Pattern Acc: 0.00%\n",
            "Val Loss: 0.5835, Val Pattern Acc: 0.00%\n",
            "\n",
            "Epoch 750/1000:\n",
            "Train Loss: 0.5620, Train Pattern Acc: 0.00%\n",
            "Val Loss: 0.5833, Val Pattern Acc: 0.00%\n",
            "\n",
            "Epoch 760/1000:\n",
            "Train Loss: 0.5617, Train Pattern Acc: 0.00%\n",
            "Val Loss: 0.5832, Val Pattern Acc: 0.00%\n",
            "\n",
            "Epoch 770/1000:\n",
            "Train Loss: 0.5614, Train Pattern Acc: 0.00%\n",
            "Val Loss: 0.5831, Val Pattern Acc: 0.00%\n"
          ]
        },
        {
          "output_type": "stream",
          "name": "stderr",
          "text": [
            " 82%|████████▏ | 819/1000 [00:04<00:00, 190.05it/s]"
          ]
        },
        {
          "output_type": "stream",
          "name": "stdout",
          "text": [
            "\n",
            "Epoch 780/1000:\n",
            "Train Loss: 0.5606, Train Pattern Acc: 0.00%\n",
            "Val Loss: 0.5827, Val Pattern Acc: 0.00%\n",
            "\n",
            "Epoch 790/1000:\n",
            "Train Loss: 0.5602, Train Pattern Acc: 0.00%\n",
            "Val Loss: 0.5825, Val Pattern Acc: 0.00%\n",
            "\n",
            "Epoch 800/1000:\n",
            "Train Loss: 0.5598, Train Pattern Acc: 0.00%\n",
            "Val Loss: 0.5823, Val Pattern Acc: 0.00%\n",
            "\n",
            "Epoch 810/1000:\n",
            "Train Loss: 0.5595, Train Pattern Acc: 0.00%\n",
            "Val Loss: 0.5821, Val Pattern Acc: 0.00%\n"
          ]
        },
        {
          "output_type": "stream",
          "name": "stderr",
          "text": [
            "\r 84%|████████▍ | 839/1000 [00:04<00:00, 183.93it/s]"
          ]
        },
        {
          "output_type": "stream",
          "name": "stdout",
          "text": [
            "\n",
            "Epoch 820/1000:\n",
            "Train Loss: 0.5592, Train Pattern Acc: 0.00%\n",
            "Val Loss: 0.5819, Val Pattern Acc: 0.00%\n",
            "\n",
            "Epoch 830/1000:\n",
            "Train Loss: 0.5589, Train Pattern Acc: 0.00%\n",
            "Val Loss: 0.5818, Val Pattern Acc: 0.00%\n",
            "\n",
            "Epoch 840/1000:\n",
            "Train Loss: 0.5587, Train Pattern Acc: 0.00%\n",
            "Val Loss: 0.5816, Val Pattern Acc: 0.00%\n",
            "\n",
            "Epoch 850/1000:\n",
            "Train Loss: 0.5585, Train Pattern Acc: 0.00%\n",
            "Val Loss: 0.5814, Val Pattern Acc: 0.00%\n"
          ]
        },
        {
          "output_type": "stream",
          "name": "stderr",
          "text": [
            " 90%|████████▉ | 898/1000 [00:05<00:00, 187.98it/s]"
          ]
        },
        {
          "output_type": "stream",
          "name": "stdout",
          "text": [
            "\n",
            "Epoch 860/1000:\n",
            "Train Loss: 0.5583, Train Pattern Acc: 0.00%\n",
            "Val Loss: 0.5813, Val Pattern Acc: 0.00%\n",
            "\n",
            "Epoch 870/1000:\n",
            "Train Loss: 0.5581, Train Pattern Acc: 0.00%\n",
            "Val Loss: 0.5812, Val Pattern Acc: 0.00%\n",
            "\n",
            "Epoch 880/1000:\n",
            "Train Loss: 0.5580, Train Pattern Acc: 0.00%\n",
            "Val Loss: 0.5811, Val Pattern Acc: 0.00%\n",
            "\n",
            "Epoch 890/1000:\n",
            "Train Loss: 0.5578, Train Pattern Acc: 0.00%\n",
            "Val Loss: 0.5810, Val Pattern Acc: 0.00%\n"
          ]
        },
        {
          "output_type": "stream",
          "name": "stderr",
          "text": [
            " 94%|█████████▎| 936/1000 [00:05<00:00, 183.35it/s]"
          ]
        },
        {
          "output_type": "stream",
          "name": "stdout",
          "text": [
            "\n",
            "Epoch 900/1000:\n",
            "Train Loss: 0.5577, Train Pattern Acc: 0.00%\n",
            "Val Loss: 0.5809, Val Pattern Acc: 0.00%\n",
            "\n",
            "Epoch 910/1000:\n",
            "Train Loss: 0.5575, Train Pattern Acc: 0.00%\n",
            "Val Loss: 0.5808, Val Pattern Acc: 0.00%\n",
            "\n",
            "Epoch 920/1000:\n",
            "Train Loss: 0.5574, Train Pattern Acc: 0.00%\n",
            "Val Loss: 0.5807, Val Pattern Acc: 0.00%\n",
            "\n",
            "Epoch 930/1000:\n",
            "Train Loss: 0.5572, Train Pattern Acc: 0.00%\n",
            "Val Loss: 0.5806, Val Pattern Acc: 0.00%\n"
          ]
        },
        {
          "output_type": "stream",
          "name": "stderr",
          "text": [
            " 98%|█████████▊| 975/1000 [00:05<00:00, 185.97it/s]"
          ]
        },
        {
          "output_type": "stream",
          "name": "stdout",
          "text": [
            "\n",
            "Epoch 940/1000:\n",
            "Train Loss: 0.5571, Train Pattern Acc: 0.00%\n",
            "Val Loss: 0.5804, Val Pattern Acc: 0.00%\n",
            "\n",
            "Epoch 950/1000:\n",
            "Train Loss: 0.5569, Train Pattern Acc: 0.00%\n",
            "Val Loss: 0.5803, Val Pattern Acc: 0.00%\n",
            "\n",
            "Epoch 960/1000:\n",
            "Train Loss: 0.5568, Train Pattern Acc: 0.00%\n",
            "Val Loss: 0.5801, Val Pattern Acc: 0.00%\n",
            "\n",
            "Epoch 970/1000:\n",
            "Train Loss: 0.5566, Train Pattern Acc: 0.00%\n",
            "Val Loss: 0.5801, Val Pattern Acc: 0.00%\n"
          ]
        },
        {
          "output_type": "stream",
          "name": "stderr",
          "text": [
            "100%|██████████| 1000/1000 [00:05<00:00, 176.31it/s]\n"
          ]
        },
        {
          "output_type": "stream",
          "name": "stdout",
          "text": [
            "\n",
            "Epoch 980/1000:\n",
            "Train Loss: 0.5564, Train Pattern Acc: 0.00%\n",
            "Val Loss: 0.5799, Val Pattern Acc: 0.00%\n",
            "\n",
            "Epoch 990/1000:\n",
            "Train Loss: 0.5563, Train Pattern Acc: 0.00%\n",
            "Val Loss: 0.5797, Val Pattern Acc: 0.00%\n",
            "\n",
            "Training Modular Homogeneous model...\n"
          ]
        },
        {
          "output_type": "stream",
          "name": "stderr",
          "text": [
            "\r  0%|          | 0/1000 [00:00<?, ?it/s]"
          ]
        },
        {
          "output_type": "stream",
          "name": "stdout",
          "text": [
            "\n",
            "Epoch 0/1000:\n",
            "Train Loss: 0.7483, Train Pattern Acc: 0.50%\n",
            "Val Loss: 0.7591, Val Pattern Acc: 0.50%\n"
          ]
        },
        {
          "output_type": "stream",
          "name": "stderr",
          "text": [
            "\r  1%|          | 10/1000 [00:00<00:10, 95.65it/s]"
          ]
        },
        {
          "output_type": "stream",
          "name": "stdout",
          "text": [
            "\n",
            "Epoch 10/1000:\n",
            "Train Loss: 0.7454, Train Pattern Acc: 0.50%\n",
            "Val Loss: 0.7564, Val Pattern Acc: 0.50%\n"
          ]
        },
        {
          "output_type": "stream",
          "name": "stderr",
          "text": [
            "\r  2%|▏         | 20/1000 [00:00<00:11, 86.36it/s]"
          ]
        },
        {
          "output_type": "stream",
          "name": "stdout",
          "text": [
            "\n",
            "Epoch 20/1000:\n",
            "Train Loss: 0.7406, Train Pattern Acc: 0.50%\n",
            "Val Loss: 0.7523, Val Pattern Acc: 0.50%\n"
          ]
        },
        {
          "output_type": "stream",
          "name": "stderr",
          "text": [
            "  4%|▍         | 40/1000 [00:00<00:10, 92.07it/s]"
          ]
        },
        {
          "output_type": "stream",
          "name": "stdout",
          "text": [
            "\n",
            "Epoch 30/1000:\n",
            "Train Loss: 0.7345, Train Pattern Acc: 0.50%\n",
            "Val Loss: 0.7474, Val Pattern Acc: 0.50%\n",
            "\n",
            "Epoch 40/1000:\n",
            "Train Loss: 0.7266, Train Pattern Acc: 0.50%\n",
            "Val Loss: 0.7412, Val Pattern Acc: 0.50%\n"
          ]
        },
        {
          "output_type": "stream",
          "name": "stderr",
          "text": [
            "\r  5%|▌         | 50/1000 [00:00<00:10, 90.39it/s]"
          ]
        },
        {
          "output_type": "stream",
          "name": "stdout",
          "text": [
            "\n",
            "Epoch 50/1000:\n",
            "Train Loss: 0.7169, Train Pattern Acc: 0.50%\n",
            "Val Loss: 0.7335, Val Pattern Acc: 0.50%\n"
          ]
        },
        {
          "output_type": "stream",
          "name": "stderr",
          "text": [
            "\r  6%|▌         | 60/1000 [00:00<00:10, 90.23it/s]"
          ]
        },
        {
          "output_type": "stream",
          "name": "stdout",
          "text": [
            "\n",
            "Epoch 60/1000:\n",
            "Train Loss: 0.7058, Train Pattern Acc: 0.50%\n",
            "Val Loss: 0.7241, Val Pattern Acc: 0.50%\n"
          ]
        },
        {
          "output_type": "stream",
          "name": "stderr",
          "text": [
            "\r  7%|▋         | 70/1000 [00:00<00:10, 90.09it/s]"
          ]
        },
        {
          "output_type": "stream",
          "name": "stdout",
          "text": [
            "\n",
            "Epoch 70/1000:\n",
            "Train Loss: 0.6930, Train Pattern Acc: 0.50%\n",
            "Val Loss: 0.7121, Val Pattern Acc: 0.50%\n"
          ]
        },
        {
          "output_type": "stream",
          "name": "stderr",
          "text": [
            "  9%|▉         | 90/1000 [00:00<00:09, 93.29it/s]"
          ]
        },
        {
          "output_type": "stream",
          "name": "stdout",
          "text": [
            "\n",
            "Epoch 80/1000:\n",
            "Train Loss: 0.6787, Train Pattern Acc: 0.50%\n",
            "Val Loss: 0.6985, Val Pattern Acc: 0.50%\n",
            "\n",
            "Epoch 90/1000:\n",
            "Train Loss: 0.6640, Train Pattern Acc: 0.50%\n",
            "Val Loss: 0.6842, Val Pattern Acc: 0.50%\n"
          ]
        },
        {
          "output_type": "stream",
          "name": "stderr",
          "text": [
            "\r 10%|█         | 100/1000 [00:01<00:09, 90.83it/s]"
          ]
        },
        {
          "output_type": "stream",
          "name": "stdout",
          "text": [
            "\n",
            "Epoch 100/1000:\n",
            "Train Loss: 0.6496, Train Pattern Acc: 0.50%\n",
            "Val Loss: 0.6692, Val Pattern Acc: 0.50%\n"
          ]
        },
        {
          "output_type": "stream",
          "name": "stderr",
          "text": [
            "\r 11%|█         | 110/1000 [00:01<00:10, 88.66it/s]"
          ]
        },
        {
          "output_type": "stream",
          "name": "stdout",
          "text": [
            "\n",
            "Epoch 110/1000:\n",
            "Train Loss: 0.6358, Train Pattern Acc: 0.50%\n",
            "Val Loss: 0.6544, Val Pattern Acc: 0.50%\n"
          ]
        },
        {
          "output_type": "stream",
          "name": "stderr",
          "text": [
            " 13%|█▎        | 130/1000 [00:01<00:09, 91.88it/s]"
          ]
        },
        {
          "output_type": "stream",
          "name": "stdout",
          "text": [
            "\n",
            "Epoch 120/1000:\n",
            "Train Loss: 0.6234, Train Pattern Acc: 0.50%\n",
            "Val Loss: 0.6413, Val Pattern Acc: 0.50%\n",
            "\n",
            "Epoch 130/1000:\n",
            "Train Loss: 0.6134, Train Pattern Acc: 0.50%\n",
            "Val Loss: 0.6304, Val Pattern Acc: 0.50%\n"
          ]
        },
        {
          "output_type": "stream",
          "name": "stderr",
          "text": [
            " 15%|█▌        | 150/1000 [00:01<00:09, 92.95it/s]"
          ]
        },
        {
          "output_type": "stream",
          "name": "stdout",
          "text": [
            "\n",
            "Epoch 140/1000:\n",
            "Train Loss: 0.6059, Train Pattern Acc: 0.50%\n",
            "Val Loss: 0.6221, Val Pattern Acc: 0.50%\n",
            "\n",
            "Epoch 150/1000:\n",
            "Train Loss: 0.6005, Train Pattern Acc: 0.50%\n",
            "Val Loss: 0.6162, Val Pattern Acc: 0.50%\n"
          ]
        },
        {
          "output_type": "stream",
          "name": "stderr",
          "text": [
            "\r 16%|█▌        | 160/1000 [00:01<00:09, 86.86it/s]"
          ]
        },
        {
          "output_type": "stream",
          "name": "stdout",
          "text": [
            "\n",
            "Epoch 160/1000:\n",
            "Train Loss: 0.5963, Train Pattern Acc: 0.50%\n",
            "Val Loss: 0.6115, Val Pattern Acc: 0.50%\n"
          ]
        },
        {
          "output_type": "stream",
          "name": "stderr",
          "text": [
            "\r 17%|█▋        | 169/1000 [00:01<00:09, 83.96it/s]"
          ]
        },
        {
          "output_type": "stream",
          "name": "stdout",
          "text": [
            "\n",
            "Epoch 170/1000:\n",
            "Train Loss: 0.5930, Train Pattern Acc: 0.50%\n",
            "Val Loss: 0.6081, Val Pattern Acc: 0.50%\n"
          ]
        },
        {
          "output_type": "stream",
          "name": "stderr",
          "text": [
            "\r 18%|█▊        | 178/1000 [00:02<00:09, 82.25it/s]"
          ]
        },
        {
          "output_type": "stream",
          "name": "stdout",
          "text": [
            "\n",
            "Epoch 180/1000:\n",
            "Train Loss: 0.5902, Train Pattern Acc: 0.50%\n",
            "Val Loss: 0.6054, Val Pattern Acc: 0.50%\n"
          ]
        },
        {
          "output_type": "stream",
          "name": "stderr",
          "text": [
            " 20%|█▉        | 195/1000 [00:02<00:10, 77.04it/s]"
          ]
        },
        {
          "output_type": "stream",
          "name": "stdout",
          "text": [
            "\n",
            "Epoch 190/1000:\n",
            "Train Loss: 0.5875, Train Pattern Acc: 0.50%\n",
            "Val Loss: 0.6027, Val Pattern Acc: 0.50%\n"
          ]
        },
        {
          "output_type": "stream",
          "name": "stderr",
          "text": [
            "\r 20%|██        | 203/1000 [00:02<00:10, 77.04it/s]"
          ]
        },
        {
          "output_type": "stream",
          "name": "stdout",
          "text": [
            "\n",
            "Epoch 200/1000:\n",
            "Train Loss: 0.5854, Train Pattern Acc: 0.50%\n",
            "Val Loss: 0.6006, Val Pattern Acc: 0.50%\n"
          ]
        },
        {
          "output_type": "stream",
          "name": "stderr",
          "text": [
            "\r 21%|██        | 211/1000 [00:02<00:10, 77.08it/s]"
          ]
        },
        {
          "output_type": "stream",
          "name": "stdout",
          "text": [
            "\n",
            "Epoch 210/1000:\n",
            "Train Loss: 0.5837, Train Pattern Acc: 0.50%\n",
            "Val Loss: 0.5991, Val Pattern Acc: 0.50%\n"
          ]
        },
        {
          "output_type": "stream",
          "name": "stderr",
          "text": [
            "\r 22%|██▏       | 219/1000 [00:02<00:10, 77.26it/s]"
          ]
        },
        {
          "output_type": "stream",
          "name": "stdout",
          "text": [
            "\n",
            "Epoch 220/1000:\n",
            "Train Loss: 0.5822, Train Pattern Acc: 1.00%\n",
            "Val Loss: 0.5976, Val Pattern Acc: 1.50%\n"
          ]
        },
        {
          "output_type": "stream",
          "name": "stderr",
          "text": [
            "\r 23%|██▎       | 227/1000 [00:02<00:10, 74.90it/s]"
          ]
        },
        {
          "output_type": "stream",
          "name": "stdout",
          "text": [
            "\n",
            "Epoch 230/1000:\n",
            "Train Loss: 0.5809, Train Pattern Acc: 1.10%\n",
            "Val Loss: 0.5963, Val Pattern Acc: 1.50%\n"
          ]
        },
        {
          "output_type": "stream",
          "name": "stderr",
          "text": [
            " 24%|██▍       | 243/1000 [00:02<00:10, 74.36it/s]"
          ]
        },
        {
          "output_type": "stream",
          "name": "stdout",
          "text": [
            "\n",
            "Epoch 240/1000:\n",
            "Train Loss: 0.5796, Train Pattern Acc: 1.80%\n",
            "Val Loss: 0.5950, Val Pattern Acc: 1.50%\n"
          ]
        },
        {
          "output_type": "stream",
          "name": "stderr",
          "text": [
            "\r 25%|██▌       | 251/1000 [00:02<00:09, 75.53it/s]"
          ]
        },
        {
          "output_type": "stream",
          "name": "stdout",
          "text": [
            "\n",
            "Epoch 250/1000:\n",
            "Train Loss: 0.5785, Train Pattern Acc: 1.80%\n",
            "Val Loss: 0.5938, Val Pattern Acc: 1.50%\n"
          ]
        },
        {
          "output_type": "stream",
          "name": "stderr",
          "text": [
            "\r 26%|██▌       | 259/1000 [00:03<00:09, 76.07it/s]"
          ]
        },
        {
          "output_type": "stream",
          "name": "stdout",
          "text": [
            "\n",
            "Epoch 260/1000:\n",
            "Train Loss: 0.5774, Train Pattern Acc: 2.70%\n",
            "Val Loss: 0.5928, Val Pattern Acc: 1.50%\n"
          ]
        },
        {
          "output_type": "stream",
          "name": "stderr",
          "text": [
            " 28%|██▊       | 275/1000 [00:03<00:09, 76.28it/s]"
          ]
        },
        {
          "output_type": "stream",
          "name": "stdout",
          "text": [
            "\n",
            "Epoch 270/1000:\n",
            "Train Loss: 0.5765, Train Pattern Acc: 4.00%\n",
            "Val Loss: 0.5919, Val Pattern Acc: 2.00%\n"
          ]
        },
        {
          "output_type": "stream",
          "name": "stderr",
          "text": [
            "\r 28%|██▊       | 284/1000 [00:03<00:09, 79.30it/s]"
          ]
        },
        {
          "output_type": "stream",
          "name": "stdout",
          "text": [
            "\n",
            "Epoch 280/1000:\n",
            "Train Loss: 0.5755, Train Pattern Acc: 4.40%\n",
            "Val Loss: 0.5907, Val Pattern Acc: 2.00%\n"
          ]
        },
        {
          "output_type": "stream",
          "name": "stderr",
          "text": [
            "\r 29%|██▉       | 293/1000 [00:03<00:08, 80.66it/s]"
          ]
        },
        {
          "output_type": "stream",
          "name": "stdout",
          "text": [
            "\n",
            "Epoch 290/1000:\n",
            "Train Loss: 0.5746, Train Pattern Acc: 3.90%\n",
            "Val Loss: 0.5897, Val Pattern Acc: 1.00%\n"
          ]
        },
        {
          "output_type": "stream",
          "name": "stderr",
          "text": [
            "\r 30%|███       | 303/1000 [00:03<00:08, 84.60it/s]"
          ]
        },
        {
          "output_type": "stream",
          "name": "stdout",
          "text": [
            "\n",
            "Epoch 300/1000:\n",
            "Train Loss: 0.5738, Train Pattern Acc: 4.00%\n",
            "Val Loss: 0.5888, Val Pattern Acc: 1.00%\n"
          ]
        },
        {
          "output_type": "stream",
          "name": "stderr",
          "text": [
            "\r 31%|███▏      | 313/1000 [00:03<00:07, 87.35it/s]"
          ]
        },
        {
          "output_type": "stream",
          "name": "stdout",
          "text": [
            "\n",
            "Epoch 310/1000:\n",
            "Train Loss: 0.5729, Train Pattern Acc: 3.80%\n",
            "Val Loss: 0.5878, Val Pattern Acc: 1.00%\n"
          ]
        },
        {
          "output_type": "stream",
          "name": "stderr",
          "text": [
            "\r 32%|███▏      | 322/1000 [00:03<00:07, 87.61it/s]"
          ]
        },
        {
          "output_type": "stream",
          "name": "stdout",
          "text": [
            "\n",
            "Epoch 320/1000:\n",
            "Train Loss: 0.5723, Train Pattern Acc: 3.50%\n",
            "Val Loss: 0.5872, Val Pattern Acc: 1.50%\n"
          ]
        },
        {
          "output_type": "stream",
          "name": "stderr",
          "text": [
            "\r 33%|███▎      | 331/1000 [00:03<00:07, 86.78it/s]"
          ]
        },
        {
          "output_type": "stream",
          "name": "stdout",
          "text": [
            "\n",
            "Epoch 330/1000:\n",
            "Train Loss: 0.5718, Train Pattern Acc: 3.50%\n",
            "Val Loss: 0.5866, Val Pattern Acc: 1.50%\n"
          ]
        },
        {
          "output_type": "stream",
          "name": "stderr",
          "text": [
            "\r 34%|███▍      | 340/1000 [00:04<00:08, 81.75it/s]"
          ]
        },
        {
          "output_type": "stream",
          "name": "stdout",
          "text": [
            "\n",
            "Epoch 340/1000:\n",
            "Train Loss: 0.5712, Train Pattern Acc: 3.70%\n",
            "Val Loss: 0.5858, Val Pattern Acc: 1.50%\n"
          ]
        },
        {
          "output_type": "stream",
          "name": "stderr",
          "text": [
            "\r 35%|███▍      | 349/1000 [00:04<00:07, 82.25it/s]"
          ]
        },
        {
          "output_type": "stream",
          "name": "stdout",
          "text": [
            "\n",
            "Epoch 350/1000:\n",
            "Train Loss: 0.5704, Train Pattern Acc: 3.40%\n",
            "Val Loss: 0.5851, Val Pattern Acc: 1.50%\n"
          ]
        },
        {
          "output_type": "stream",
          "name": "stderr",
          "text": [
            " 37%|███▋      | 368/1000 [00:04<00:07, 84.96it/s]"
          ]
        },
        {
          "output_type": "stream",
          "name": "stdout",
          "text": [
            "\n",
            "Epoch 360/1000:\n",
            "Train Loss: 0.5700, Train Pattern Acc: 2.50%\n",
            "Val Loss: 0.5846, Val Pattern Acc: 1.50%\n"
          ]
        },
        {
          "output_type": "stream",
          "name": "stderr",
          "text": [
            "\r 38%|███▊      | 377/1000 [00:04<00:07, 86.31it/s]"
          ]
        },
        {
          "output_type": "stream",
          "name": "stdout",
          "text": [
            "\n",
            "Epoch 370/1000:\n",
            "Train Loss: 0.5696, Train Pattern Acc: 2.40%\n",
            "Val Loss: 0.5843, Val Pattern Acc: 1.50%\n"
          ]
        },
        {
          "output_type": "stream",
          "name": "stderr",
          "text": [
            "\r 39%|███▊      | 387/1000 [00:04<00:07, 87.36it/s]"
          ]
        },
        {
          "output_type": "stream",
          "name": "stdout",
          "text": [
            "\n",
            "Epoch 380/1000:\n",
            "Train Loss: 0.5693, Train Pattern Acc: 1.80%\n",
            "Val Loss: 0.5839, Val Pattern Acc: 1.00%\n"
          ]
        },
        {
          "output_type": "stream",
          "name": "stderr",
          "text": [
            "\r 40%|███▉      | 396/1000 [00:04<00:06, 87.78it/s]"
          ]
        },
        {
          "output_type": "stream",
          "name": "stdout",
          "text": [
            "\n",
            "Epoch 390/1000:\n",
            "Train Loss: 0.5689, Train Pattern Acc: 1.80%\n",
            "Val Loss: 0.5836, Val Pattern Acc: 1.00%\n"
          ]
        },
        {
          "output_type": "stream",
          "name": "stderr",
          "text": [
            "\r 40%|████      | 405/1000 [00:04<00:06, 88.36it/s]"
          ]
        },
        {
          "output_type": "stream",
          "name": "stdout",
          "text": [
            "\n",
            "Epoch 400/1000:\n",
            "Train Loss: 0.5686, Train Pattern Acc: 1.80%\n",
            "Val Loss: 0.5833, Val Pattern Acc: 1.00%\n"
          ]
        },
        {
          "output_type": "stream",
          "name": "stderr",
          "text": [
            "\r 41%|████▏     | 414/1000 [00:04<00:06, 87.66it/s]"
          ]
        },
        {
          "output_type": "stream",
          "name": "stdout",
          "text": [
            "\n",
            "Epoch 410/1000:\n",
            "Train Loss: 0.5683, Train Pattern Acc: 1.40%\n",
            "Val Loss: 0.5831, Val Pattern Acc: 1.00%\n"
          ]
        },
        {
          "output_type": "stream",
          "name": "stderr",
          "text": [
            "\r 42%|████▏     | 423/1000 [00:05<00:06, 88.34it/s]"
          ]
        },
        {
          "output_type": "stream",
          "name": "stdout",
          "text": [
            "\n",
            "Epoch 420/1000:\n",
            "Train Loss: 0.5680, Train Pattern Acc: 1.40%\n",
            "Val Loss: 0.5828, Val Pattern Acc: 1.00%\n"
          ]
        },
        {
          "output_type": "stream",
          "name": "stderr",
          "text": [
            "\r 43%|████▎     | 432/1000 [00:05<00:06, 88.27it/s]"
          ]
        },
        {
          "output_type": "stream",
          "name": "stdout",
          "text": [
            "\n",
            "Epoch 430/1000:\n",
            "Train Loss: 0.5678, Train Pattern Acc: 1.60%\n",
            "Val Loss: 0.5826, Val Pattern Acc: 1.00%\n"
          ]
        },
        {
          "output_type": "stream",
          "name": "stderr",
          "text": [
            "\r 44%|████▍     | 441/1000 [00:05<00:06, 86.18it/s]"
          ]
        },
        {
          "output_type": "stream",
          "name": "stdout",
          "text": [
            "\n",
            "Epoch 440/1000:\n",
            "Train Loss: 0.5675, Train Pattern Acc: 1.90%\n",
            "Val Loss: 0.5823, Val Pattern Acc: 1.00%\n"
          ]
        },
        {
          "output_type": "stream",
          "name": "stderr",
          "text": [
            "\r 45%|████▌     | 450/1000 [00:05<00:06, 87.05it/s]"
          ]
        },
        {
          "output_type": "stream",
          "name": "stdout",
          "text": [
            "\n",
            "Epoch 450/1000:\n",
            "Train Loss: 0.5673, Train Pattern Acc: 1.90%\n",
            "Val Loss: 0.5821, Val Pattern Acc: 1.00%\n"
          ]
        },
        {
          "output_type": "stream",
          "name": "stderr",
          "text": [
            " 47%|████▋     | 468/1000 [00:05<00:06, 88.48it/s]"
          ]
        },
        {
          "output_type": "stream",
          "name": "stdout",
          "text": [
            "\n",
            "Epoch 460/1000:\n",
            "Train Loss: 0.5669, Train Pattern Acc: 1.90%\n",
            "Val Loss: 0.5818, Val Pattern Acc: 1.00%\n"
          ]
        },
        {
          "output_type": "stream",
          "name": "stderr",
          "text": [
            "\r 48%|████▊     | 477/1000 [00:05<00:06, 85.33it/s]"
          ]
        },
        {
          "output_type": "stream",
          "name": "stdout",
          "text": [
            "\n",
            "Epoch 470/1000:\n",
            "Train Loss: 0.5663, Train Pattern Acc: 1.90%\n",
            "Val Loss: 0.5814, Val Pattern Acc: 1.00%\n"
          ]
        },
        {
          "output_type": "stream",
          "name": "stderr",
          "text": [
            "\r 49%|████▊     | 486/1000 [00:05<00:05, 86.07it/s]"
          ]
        },
        {
          "output_type": "stream",
          "name": "stdout",
          "text": [
            "\n",
            "Epoch 480/1000:\n",
            "Train Loss: 0.5661, Train Pattern Acc: 1.80%\n",
            "Val Loss: 0.5811, Val Pattern Acc: 1.00%\n"
          ]
        },
        {
          "output_type": "stream",
          "name": "stderr",
          "text": [
            "\r 50%|████▉     | 495/1000 [00:05<00:05, 86.18it/s]"
          ]
        },
        {
          "output_type": "stream",
          "name": "stdout",
          "text": [
            "\n",
            "Epoch 490/1000:\n",
            "Train Loss: 0.5658, Train Pattern Acc: 1.80%\n",
            "Val Loss: 0.5809, Val Pattern Acc: 1.00%\n"
          ]
        },
        {
          "output_type": "stream",
          "name": "stderr",
          "text": [
            "\r 50%|█████     | 504/1000 [00:05<00:06, 82.10it/s]"
          ]
        },
        {
          "output_type": "stream",
          "name": "stdout",
          "text": [
            "\n",
            "Epoch 500/1000:\n",
            "Train Loss: 0.5653, Train Pattern Acc: 1.80%\n",
            "Val Loss: 0.5802, Val Pattern Acc: 1.00%\n"
          ]
        },
        {
          "output_type": "stream",
          "name": "stderr",
          "text": [
            "\r 51%|█████▏    | 513/1000 [00:06<00:05, 82.81it/s]"
          ]
        },
        {
          "output_type": "stream",
          "name": "stdout",
          "text": [
            "\n",
            "Epoch 510/1000:\n",
            "Train Loss: 0.5650, Train Pattern Acc: 1.80%\n",
            "Val Loss: 0.5799, Val Pattern Acc: 1.00%\n"
          ]
        },
        {
          "output_type": "stream",
          "name": "stderr",
          "text": [
            "\r 52%|█████▏    | 522/1000 [00:06<00:05, 84.14it/s]"
          ]
        },
        {
          "output_type": "stream",
          "name": "stdout",
          "text": [
            "\n",
            "Epoch 520/1000:\n",
            "Train Loss: 0.5648, Train Pattern Acc: 1.80%\n",
            "Val Loss: 0.5797, Val Pattern Acc: 1.50%\n"
          ]
        },
        {
          "output_type": "stream",
          "name": "stderr",
          "text": [
            "\r 53%|█████▎    | 531/1000 [00:06<00:05, 85.15it/s]"
          ]
        },
        {
          "output_type": "stream",
          "name": "stdout",
          "text": [
            "\n",
            "Epoch 530/1000:\n",
            "Train Loss: 0.5646, Train Pattern Acc: 1.90%\n",
            "Val Loss: 0.5796, Val Pattern Acc: 1.50%\n"
          ]
        },
        {
          "output_type": "stream",
          "name": "stderr",
          "text": [
            "\r 54%|█████▍    | 540/1000 [00:06<00:05, 84.45it/s]"
          ]
        },
        {
          "output_type": "stream",
          "name": "stdout",
          "text": [
            "\n",
            "Epoch 540/1000:\n",
            "Train Loss: 0.5645, Train Pattern Acc: 1.90%\n",
            "Val Loss: 0.5795, Val Pattern Acc: 1.00%\n"
          ]
        },
        {
          "output_type": "stream",
          "name": "stderr",
          "text": [
            " 56%|█████▌    | 558/1000 [00:06<00:05, 85.23it/s]"
          ]
        },
        {
          "output_type": "stream",
          "name": "stdout",
          "text": [
            "\n",
            "Epoch 550/1000:\n",
            "Train Loss: 0.5644, Train Pattern Acc: 1.90%\n",
            "Val Loss: 0.5794, Val Pattern Acc: 1.00%\n"
          ]
        },
        {
          "output_type": "stream",
          "name": "stderr",
          "text": [
            "\r 57%|█████▋    | 567/1000 [00:06<00:05, 85.61it/s]"
          ]
        },
        {
          "output_type": "stream",
          "name": "stdout",
          "text": [
            "\n",
            "Epoch 560/1000:\n",
            "Train Loss: 0.5642, Train Pattern Acc: 2.00%\n",
            "Val Loss: 0.5793, Val Pattern Acc: 1.00%\n"
          ]
        },
        {
          "output_type": "stream",
          "name": "stderr",
          "text": [
            "\r 58%|█████▊    | 576/1000 [00:06<00:04, 86.38it/s]"
          ]
        },
        {
          "output_type": "stream",
          "name": "stdout",
          "text": [
            "\n",
            "Epoch 570/1000:\n",
            "Train Loss: 0.5641, Train Pattern Acc: 2.10%\n",
            "Val Loss: 0.5792, Val Pattern Acc: 1.00%\n"
          ]
        },
        {
          "output_type": "stream",
          "name": "stderr",
          "text": [
            "\r 58%|█████▊    | 585/1000 [00:06<00:04, 85.96it/s]"
          ]
        },
        {
          "output_type": "stream",
          "name": "stdout",
          "text": [
            "\n",
            "Epoch 580/1000:\n",
            "Train Loss: 0.5640, Train Pattern Acc: 2.10%\n",
            "Val Loss: 0.5791, Val Pattern Acc: 1.00%\n"
          ]
        },
        {
          "output_type": "stream",
          "name": "stderr",
          "text": [
            "\r 59%|█████▉    | 594/1000 [00:07<00:04, 86.57it/s]"
          ]
        },
        {
          "output_type": "stream",
          "name": "stdout",
          "text": [
            "\n",
            "Epoch 590/1000:\n",
            "Train Loss: 0.5639, Train Pattern Acc: 3.30%\n",
            "Val Loss: 0.5790, Val Pattern Acc: 1.50%\n"
          ]
        },
        {
          "output_type": "stream",
          "name": "stderr",
          "text": [
            "\r 60%|██████    | 603/1000 [00:07<00:04, 86.67it/s]"
          ]
        },
        {
          "output_type": "stream",
          "name": "stdout",
          "text": [
            "\n",
            "Epoch 600/1000:\n",
            "Train Loss: 0.5638, Train Pattern Acc: 4.60%\n",
            "Val Loss: 0.5790, Val Pattern Acc: 1.50%\n"
          ]
        },
        {
          "output_type": "stream",
          "name": "stderr",
          "text": [
            "\r 61%|██████    | 612/1000 [00:07<00:04, 85.17it/s]"
          ]
        },
        {
          "output_type": "stream",
          "name": "stdout",
          "text": [
            "\n",
            "Epoch 610/1000:\n",
            "Train Loss: 0.5637, Train Pattern Acc: 4.70%\n",
            "Val Loss: 0.5789, Val Pattern Acc: 1.50%\n"
          ]
        },
        {
          "output_type": "stream",
          "name": "stderr",
          "text": [
            "\r 62%|██████▏   | 621/1000 [00:07<00:04, 85.75it/s]"
          ]
        },
        {
          "output_type": "stream",
          "name": "stdout",
          "text": [
            "\n",
            "Epoch 620/1000:\n",
            "Train Loss: 0.5636, Train Pattern Acc: 4.70%\n",
            "Val Loss: 0.5788, Val Pattern Acc: 1.50%\n"
          ]
        },
        {
          "output_type": "stream",
          "name": "stderr",
          "text": [
            "\r 63%|██████▎   | 630/1000 [00:07<00:04, 84.36it/s]"
          ]
        },
        {
          "output_type": "stream",
          "name": "stdout",
          "text": [
            "\n",
            "Epoch 630/1000:\n",
            "Train Loss: 0.5635, Train Pattern Acc: 5.40%\n",
            "Val Loss: 0.5788, Val Pattern Acc: 1.50%\n"
          ]
        },
        {
          "output_type": "stream",
          "name": "stderr",
          "text": [
            " 65%|██████▍   | 648/1000 [00:07<00:04, 83.74it/s]"
          ]
        },
        {
          "output_type": "stream",
          "name": "stdout",
          "text": [
            "\n",
            "Epoch 640/1000:\n",
            "Train Loss: 0.5635, Train Pattern Acc: 5.50%\n",
            "Val Loss: 0.5788, Val Pattern Acc: 1.50%\n"
          ]
        },
        {
          "output_type": "stream",
          "name": "stderr",
          "text": [
            "\r 66%|██████▌   | 657/1000 [00:07<00:04, 85.15it/s]"
          ]
        },
        {
          "output_type": "stream",
          "name": "stdout",
          "text": [
            "\n",
            "Epoch 650/1000:\n",
            "Train Loss: 0.5635, Train Pattern Acc: 5.50%\n",
            "Val Loss: 0.5788, Val Pattern Acc: 1.50%\n"
          ]
        },
        {
          "output_type": "stream",
          "name": "stderr",
          "text": [
            "\r 67%|██████▋   | 666/1000 [00:07<00:03, 84.62it/s]"
          ]
        },
        {
          "output_type": "stream",
          "name": "stdout",
          "text": [
            "\n",
            "Epoch 660/1000:\n",
            "Train Loss: 0.5635, Train Pattern Acc: 5.50%\n",
            "Val Loss: 0.5788, Val Pattern Acc: 1.50%\n"
          ]
        },
        {
          "output_type": "stream",
          "name": "stderr",
          "text": [
            "\r 68%|██████▊   | 675/1000 [00:07<00:03, 85.12it/s]"
          ]
        },
        {
          "output_type": "stream",
          "name": "stdout",
          "text": [
            "\n",
            "Epoch 670/1000:\n",
            "Train Loss: 0.5635, Train Pattern Acc: 5.50%\n",
            "Val Loss: 0.5788, Val Pattern Acc: 1.50%\n"
          ]
        },
        {
          "output_type": "stream",
          "name": "stderr",
          "text": [
            "\r 68%|██████▊   | 685/1000 [00:08<00:03, 86.95it/s]"
          ]
        },
        {
          "output_type": "stream",
          "name": "stdout",
          "text": [
            "\n",
            "Epoch 680/1000:\n",
            "Train Loss: 0.5635, Train Pattern Acc: 5.50%\n",
            "Val Loss: 0.5788, Val Pattern Acc: 1.50%\n"
          ]
        },
        {
          "output_type": "stream",
          "name": "stderr",
          "text": [
            "\r 69%|██████▉   | 694/1000 [00:08<00:03, 87.37it/s]"
          ]
        },
        {
          "output_type": "stream",
          "name": "stdout",
          "text": [
            "\n",
            "Epoch 690/1000:\n",
            "Train Loss: 0.5635, Train Pattern Acc: 5.50%\n",
            "Val Loss: 0.5788, Val Pattern Acc: 1.50%\n"
          ]
        },
        {
          "output_type": "stream",
          "name": "stderr",
          "text": [
            "\r 70%|███████   | 703/1000 [00:08<00:03, 87.83it/s]"
          ]
        },
        {
          "output_type": "stream",
          "name": "stdout",
          "text": [
            "\n",
            "Epoch 700/1000:\n",
            "Train Loss: 0.5635, Train Pattern Acc: 5.50%\n",
            "Val Loss: 0.5788, Val Pattern Acc: 1.50%\n"
          ]
        },
        {
          "output_type": "stream",
          "name": "stderr",
          "text": [
            "\r 71%|███████   | 712/1000 [00:08<00:03, 88.28it/s]"
          ]
        },
        {
          "output_type": "stream",
          "name": "stdout",
          "text": [
            "\n",
            "Epoch 710/1000:\n",
            "Train Loss: 0.5635, Train Pattern Acc: 5.50%\n",
            "Val Loss: 0.5788, Val Pattern Acc: 1.50%\n"
          ]
        },
        {
          "output_type": "stream",
          "name": "stderr",
          "text": [
            "\r 72%|███████▏  | 721/1000 [00:08<00:03, 87.71it/s]"
          ]
        },
        {
          "output_type": "stream",
          "name": "stdout",
          "text": [
            "\n",
            "Epoch 720/1000:\n",
            "Train Loss: 0.5635, Train Pattern Acc: 5.50%\n",
            "Val Loss: 0.5788, Val Pattern Acc: 1.50%\n"
          ]
        },
        {
          "output_type": "stream",
          "name": "stderr",
          "text": [
            "\r 73%|███████▎  | 731/1000 [00:08<00:03, 88.31it/s]"
          ]
        },
        {
          "output_type": "stream",
          "name": "stdout",
          "text": [
            "\n",
            "Epoch 730/1000:\n",
            "Train Loss: 0.5635, Train Pattern Acc: 5.50%\n",
            "Val Loss: 0.5788, Val Pattern Acc: 1.50%\n"
          ]
        },
        {
          "output_type": "stream",
          "name": "stderr",
          "text": [
            "\r 74%|███████▍  | 740/1000 [00:08<00:02, 88.66it/s]"
          ]
        },
        {
          "output_type": "stream",
          "name": "stdout",
          "text": [
            "\n",
            "Epoch 740/1000:\n",
            "Train Loss: 0.5635, Train Pattern Acc: 5.50%\n",
            "Val Loss: 0.5788, Val Pattern Acc: 1.50%\n"
          ]
        },
        {
          "output_type": "stream",
          "name": "stderr",
          "text": [
            "\r 75%|███████▌  | 750/1000 [00:08<00:02, 89.75it/s]"
          ]
        },
        {
          "output_type": "stream",
          "name": "stdout",
          "text": [
            "\n",
            "Epoch 750/1000:\n",
            "Train Loss: 0.5635, Train Pattern Acc: 5.50%\n",
            "Val Loss: 0.5788, Val Pattern Acc: 1.50%\n"
          ]
        },
        {
          "output_type": "stream",
          "name": "stderr",
          "text": [
            " 77%|███████▋  | 768/1000 [00:09<00:02, 88.01it/s]"
          ]
        },
        {
          "output_type": "stream",
          "name": "stdout",
          "text": [
            "\n",
            "Epoch 760/1000:\n",
            "Train Loss: 0.5635, Train Pattern Acc: 5.50%\n",
            "Val Loss: 0.5788, Val Pattern Acc: 1.50%\n"
          ]
        },
        {
          "output_type": "stream",
          "name": "stderr",
          "text": [
            "\r 78%|███████▊  | 777/1000 [00:09<00:02, 88.58it/s]"
          ]
        },
        {
          "output_type": "stream",
          "name": "stdout",
          "text": [
            "\n",
            "Epoch 770/1000:\n",
            "Train Loss: 0.5635, Train Pattern Acc: 5.50%\n",
            "Val Loss: 0.5788, Val Pattern Acc: 1.50%\n"
          ]
        },
        {
          "output_type": "stream",
          "name": "stderr",
          "text": [
            "\r 79%|███████▊  | 786/1000 [00:09<00:02, 85.55it/s]"
          ]
        },
        {
          "output_type": "stream",
          "name": "stdout",
          "text": [
            "\n",
            "Epoch 780/1000:\n",
            "Train Loss: 0.5635, Train Pattern Acc: 5.50%\n",
            "Val Loss: 0.5788, Val Pattern Acc: 1.50%\n"
          ]
        },
        {
          "output_type": "stream",
          "name": "stderr",
          "text": [
            "\r 80%|███████▉  | 795/1000 [00:09<00:02, 85.95it/s]"
          ]
        },
        {
          "output_type": "stream",
          "name": "stdout",
          "text": [
            "\n",
            "Epoch 790/1000:\n",
            "Train Loss: 0.5635, Train Pattern Acc: 5.50%\n",
            "Val Loss: 0.5788, Val Pattern Acc: 1.50%\n"
          ]
        },
        {
          "output_type": "stream",
          "name": "stderr",
          "text": [
            "\r 80%|████████  | 804/1000 [00:09<00:02, 86.20it/s]"
          ]
        },
        {
          "output_type": "stream",
          "name": "stdout",
          "text": [
            "\n",
            "Epoch 800/1000:\n",
            "Train Loss: 0.5635, Train Pattern Acc: 5.50%\n",
            "Val Loss: 0.5788, Val Pattern Acc: 1.50%\n"
          ]
        },
        {
          "output_type": "stream",
          "name": "stderr",
          "text": [
            "\r 81%|████████▏ | 813/1000 [00:09<00:02, 82.05it/s]"
          ]
        },
        {
          "output_type": "stream",
          "name": "stdout",
          "text": [
            "\n",
            "Epoch 810/1000:\n",
            "Train Loss: 0.5635, Train Pattern Acc: 5.50%\n",
            "Val Loss: 0.5788, Val Pattern Acc: 1.50%\n"
          ]
        },
        {
          "output_type": "stream",
          "name": "stderr",
          "text": [
            "\r 82%|████████▏ | 822/1000 [00:09<00:02, 80.89it/s]"
          ]
        },
        {
          "output_type": "stream",
          "name": "stdout",
          "text": [
            "\n",
            "Epoch 820/1000:\n",
            "Train Loss: 0.5635, Train Pattern Acc: 5.50%\n",
            "Val Loss: 0.5788, Val Pattern Acc: 1.50%\n"
          ]
        },
        {
          "output_type": "stream",
          "name": "stderr",
          "text": [
            "\r 83%|████████▎ | 831/1000 [00:09<00:02, 83.34it/s]"
          ]
        },
        {
          "output_type": "stream",
          "name": "stdout",
          "text": [
            "\n",
            "Epoch 830/1000:\n",
            "Train Loss: 0.5635, Train Pattern Acc: 5.50%\n",
            "Val Loss: 0.5788, Val Pattern Acc: 1.50%\n"
          ]
        },
        {
          "output_type": "stream",
          "name": "stderr",
          "text": [
            "\r 84%|████████▍ | 840/1000 [00:09<00:01, 84.69it/s]"
          ]
        },
        {
          "output_type": "stream",
          "name": "stdout",
          "text": [
            "\n",
            "Epoch 840/1000:\n",
            "Train Loss: 0.5635, Train Pattern Acc: 5.50%\n",
            "Val Loss: 0.5788, Val Pattern Acc: 1.50%\n"
          ]
        },
        {
          "output_type": "stream",
          "name": "stderr",
          "text": [
            " 86%|████████▌ | 858/1000 [00:10<00:01, 86.06it/s]"
          ]
        },
        {
          "output_type": "stream",
          "name": "stdout",
          "text": [
            "\n",
            "Epoch 850/1000:\n",
            "Train Loss: 0.5635, Train Pattern Acc: 5.50%\n",
            "Val Loss: 0.5788, Val Pattern Acc: 1.50%\n"
          ]
        },
        {
          "output_type": "stream",
          "name": "stderr",
          "text": [
            "\r 87%|████████▋ | 867/1000 [00:10<00:01, 86.70it/s]"
          ]
        },
        {
          "output_type": "stream",
          "name": "stdout",
          "text": [
            "\n",
            "Epoch 860/1000:\n",
            "Train Loss: 0.5635, Train Pattern Acc: 5.50%\n",
            "Val Loss: 0.5788, Val Pattern Acc: 1.50%\n"
          ]
        },
        {
          "output_type": "stream",
          "name": "stderr",
          "text": [
            "\r 88%|████████▊ | 876/1000 [00:10<00:01, 86.66it/s]"
          ]
        },
        {
          "output_type": "stream",
          "name": "stdout",
          "text": [
            "\n",
            "Epoch 870/1000:\n",
            "Train Loss: 0.5635, Train Pattern Acc: 5.50%\n",
            "Val Loss: 0.5788, Val Pattern Acc: 1.50%\n"
          ]
        },
        {
          "output_type": "stream",
          "name": "stderr",
          "text": [
            "\r 88%|████████▊ | 885/1000 [00:10<00:01, 85.44it/s]"
          ]
        },
        {
          "output_type": "stream",
          "name": "stdout",
          "text": [
            "\n",
            "Epoch 880/1000:\n",
            "Train Loss: 0.5635, Train Pattern Acc: 5.50%\n",
            "Val Loss: 0.5788, Val Pattern Acc: 1.50%\n"
          ]
        },
        {
          "output_type": "stream",
          "name": "stderr",
          "text": [
            "\r 89%|████████▉ | 894/1000 [00:10<00:01, 85.24it/s]"
          ]
        },
        {
          "output_type": "stream",
          "name": "stdout",
          "text": [
            "\n",
            "Epoch 890/1000:\n",
            "Train Loss: 0.5635, Train Pattern Acc: 5.50%\n",
            "Val Loss: 0.5788, Val Pattern Acc: 1.50%\n"
          ]
        },
        {
          "output_type": "stream",
          "name": "stderr",
          "text": [
            "\r 90%|█████████ | 903/1000 [00:10<00:01, 86.53it/s]"
          ]
        },
        {
          "output_type": "stream",
          "name": "stdout",
          "text": [
            "\n",
            "Epoch 900/1000:\n",
            "Train Loss: 0.5635, Train Pattern Acc: 5.50%\n",
            "Val Loss: 0.5788, Val Pattern Acc: 1.50%\n"
          ]
        },
        {
          "output_type": "stream",
          "name": "stderr",
          "text": [
            "\r 91%|█████████ | 912/1000 [00:10<00:01, 86.96it/s]"
          ]
        },
        {
          "output_type": "stream",
          "name": "stdout",
          "text": [
            "\n",
            "Epoch 910/1000:\n",
            "Train Loss: 0.5635, Train Pattern Acc: 5.50%\n",
            "Val Loss: 0.5788, Val Pattern Acc: 1.50%\n"
          ]
        },
        {
          "output_type": "stream",
          "name": "stderr",
          "text": [
            "\r 92%|█████████▏| 922/1000 [00:10<00:00, 87.99it/s]"
          ]
        },
        {
          "output_type": "stream",
          "name": "stdout",
          "text": [
            "\n",
            "Epoch 920/1000:\n",
            "Train Loss: 0.5635, Train Pattern Acc: 5.50%\n",
            "Val Loss: 0.5788, Val Pattern Acc: 1.50%\n"
          ]
        },
        {
          "output_type": "stream",
          "name": "stderr",
          "text": [
            "\r 93%|█████████▎| 931/1000 [00:10<00:00, 86.87it/s]"
          ]
        },
        {
          "output_type": "stream",
          "name": "stdout",
          "text": [
            "\n",
            "Epoch 930/1000:\n",
            "Train Loss: 0.5635, Train Pattern Acc: 5.50%\n",
            "Val Loss: 0.5788, Val Pattern Acc: 1.50%\n"
          ]
        },
        {
          "output_type": "stream",
          "name": "stderr",
          "text": [
            "\r 94%|█████████▍| 940/1000 [00:11<00:00, 87.34it/s]"
          ]
        },
        {
          "output_type": "stream",
          "name": "stdout",
          "text": [
            "\n",
            "Epoch 940/1000:\n",
            "Train Loss: 0.5635, Train Pattern Acc: 5.50%\n",
            "Val Loss: 0.5788, Val Pattern Acc: 1.50%\n"
          ]
        },
        {
          "output_type": "stream",
          "name": "stderr",
          "text": [
            " 96%|█████████▌| 959/1000 [00:11<00:00, 88.34it/s]"
          ]
        },
        {
          "output_type": "stream",
          "name": "stdout",
          "text": [
            "\n",
            "Epoch 950/1000:\n",
            "Train Loss: 0.5635, Train Pattern Acc: 5.50%\n",
            "Val Loss: 0.5788, Val Pattern Acc: 1.50%\n"
          ]
        },
        {
          "output_type": "stream",
          "name": "stderr",
          "text": [
            "\r 97%|█████████▋| 968/1000 [00:11<00:00, 88.76it/s]"
          ]
        },
        {
          "output_type": "stream",
          "name": "stdout",
          "text": [
            "\n",
            "Epoch 960/1000:\n",
            "Train Loss: 0.5635, Train Pattern Acc: 5.50%\n",
            "Val Loss: 0.5788, Val Pattern Acc: 1.50%\n"
          ]
        },
        {
          "output_type": "stream",
          "name": "stderr",
          "text": [
            "\r 98%|█████████▊| 977/1000 [00:11<00:00, 88.87it/s]"
          ]
        },
        {
          "output_type": "stream",
          "name": "stdout",
          "text": [
            "\n",
            "Epoch 970/1000:\n",
            "Train Loss: 0.5635, Train Pattern Acc: 5.50%\n",
            "Val Loss: 0.5788, Val Pattern Acc: 1.50%\n"
          ]
        },
        {
          "output_type": "stream",
          "name": "stderr",
          "text": [
            "\r 99%|█████████▊| 986/1000 [00:11<00:00, 87.42it/s]"
          ]
        },
        {
          "output_type": "stream",
          "name": "stdout",
          "text": [
            "\n",
            "Epoch 980/1000:\n",
            "Train Loss: 0.5635, Train Pattern Acc: 5.50%\n",
            "Val Loss: 0.5788, Val Pattern Acc: 1.50%\n"
          ]
        },
        {
          "output_type": "stream",
          "name": "stderr",
          "text": [
            "\r100%|█████████▉| 995/1000 [00:11<00:00, 87.35it/s]"
          ]
        },
        {
          "output_type": "stream",
          "name": "stdout",
          "text": [
            "\n",
            "Epoch 990/1000:\n",
            "Train Loss: 0.5635, Train Pattern Acc: 5.50%\n",
            "Val Loss: 0.5788, Val Pattern Acc: 1.50%\n"
          ]
        },
        {
          "output_type": "stream",
          "name": "stderr",
          "text": [
            "\r100%|██████████| 1000/1000 [00:11<00:00, 85.46it/s]\n"
          ]
        },
        {
          "output_type": "stream",
          "name": "stdout",
          "text": [
            "\n",
            "Training Modular Heterogeneous model...\n"
          ]
        },
        {
          "output_type": "stream",
          "name": "stderr",
          "text": [
            "\r  0%|          | 0/1000 [00:00<?, ?it/s]"
          ]
        },
        {
          "output_type": "stream",
          "name": "stdout",
          "text": [
            "\n",
            "Epoch 0/1000:\n",
            "Train Loss: 0.7496, Train Pattern Acc: 0.50%\n",
            "Val Loss: 0.7606, Val Pattern Acc: 0.50%\n"
          ]
        },
        {
          "output_type": "stream",
          "name": "stderr",
          "text": [
            "\r  1%|          | 9/1000 [00:00<00:11, 86.05it/s]"
          ]
        },
        {
          "output_type": "stream",
          "name": "stdout",
          "text": [
            "\n",
            "Epoch 10/1000:\n",
            "Train Loss: 0.7475, Train Pattern Acc: 0.50%\n",
            "Val Loss: 0.7586, Val Pattern Acc: 0.50%\n"
          ]
        },
        {
          "output_type": "stream",
          "name": "stderr",
          "text": [
            "  3%|▎         | 28/1000 [00:00<00:10, 89.90it/s]"
          ]
        },
        {
          "output_type": "stream",
          "name": "stdout",
          "text": [
            "\n",
            "Epoch 20/1000:\n",
            "Train Loss: 0.7449, Train Pattern Acc: 0.50%\n",
            "Val Loss: 0.7560, Val Pattern Acc: 0.50%\n"
          ]
        },
        {
          "output_type": "stream",
          "name": "stderr",
          "text": [
            "\r  4%|▍         | 38/1000 [00:00<00:10, 91.10it/s]"
          ]
        },
        {
          "output_type": "stream",
          "name": "stdout",
          "text": [
            "\n",
            "Epoch 30/1000:\n",
            "Train Loss: 0.7409, Train Pattern Acc: 0.50%\n",
            "Val Loss: 0.7521, Val Pattern Acc: 0.50%\n"
          ]
        },
        {
          "output_type": "stream",
          "name": "stderr",
          "text": [
            "\r  5%|▍         | 48/1000 [00:00<00:10, 89.80it/s]"
          ]
        },
        {
          "output_type": "stream",
          "name": "stdout",
          "text": [
            "\n",
            "Epoch 40/1000:\n",
            "Train Loss: 0.7347, Train Pattern Acc: 0.50%\n",
            "Val Loss: 0.7461, Val Pattern Acc: 0.50%\n"
          ]
        },
        {
          "output_type": "stream",
          "name": "stderr",
          "text": [
            "\r  6%|▌         | 58/1000 [00:00<00:10, 91.14it/s]"
          ]
        },
        {
          "output_type": "stream",
          "name": "stdout",
          "text": [
            "\n",
            "Epoch 50/1000:\n",
            "Train Loss: 0.7248, Train Pattern Acc: 0.50%\n",
            "Val Loss: 0.7366, Val Pattern Acc: 0.50%\n"
          ]
        },
        {
          "output_type": "stream",
          "name": "stderr",
          "text": [
            "\r  7%|▋         | 68/1000 [00:00<00:10, 92.11it/s]"
          ]
        },
        {
          "output_type": "stream",
          "name": "stdout",
          "text": [
            "\n",
            "Epoch 60/1000:\n",
            "Train Loss: 0.7100, Train Pattern Acc: 0.50%\n",
            "Val Loss: 0.7222, Val Pattern Acc: 0.50%\n"
          ]
        },
        {
          "output_type": "stream",
          "name": "stderr",
          "text": [
            "\r  8%|▊         | 78/1000 [00:00<00:09, 93.07it/s]"
          ]
        },
        {
          "output_type": "stream",
          "name": "stdout",
          "text": [
            "\n",
            "Epoch 70/1000:\n",
            "Train Loss: 0.6911, Train Pattern Acc: 0.50%\n",
            "Val Loss: 0.7031, Val Pattern Acc: 0.50%\n"
          ]
        },
        {
          "output_type": "stream",
          "name": "stderr",
          "text": [
            "\r  9%|▉         | 88/1000 [00:00<00:09, 93.26it/s]"
          ]
        },
        {
          "output_type": "stream",
          "name": "stdout",
          "text": [
            "\n",
            "Epoch 80/1000:\n",
            "Train Loss: 0.6705, Train Pattern Acc: 0.50%\n",
            "Val Loss: 0.6816, Val Pattern Acc: 0.50%\n"
          ]
        },
        {
          "output_type": "stream",
          "name": "stderr",
          "text": [
            "\r 10%|▉         | 98/1000 [00:01<00:09, 93.37it/s]"
          ]
        },
        {
          "output_type": "stream",
          "name": "stdout",
          "text": [
            "\n",
            "Epoch 90/1000:\n",
            "Train Loss: 0.6512, Train Pattern Acc: 0.50%\n",
            "Val Loss: 0.6611, Val Pattern Acc: 0.50%\n"
          ]
        },
        {
          "output_type": "stream",
          "name": "stderr",
          "text": [
            "\r 11%|█         | 108/1000 [00:01<00:09, 93.71it/s]"
          ]
        },
        {
          "output_type": "stream",
          "name": "stdout",
          "text": [
            "\n",
            "Epoch 100/1000:\n",
            "Train Loss: 0.6349, Train Pattern Acc: 0.50%\n",
            "Val Loss: 0.6438, Val Pattern Acc: 0.50%\n"
          ]
        },
        {
          "output_type": "stream",
          "name": "stderr",
          "text": [
            "\r 12%|█▏        | 118/1000 [00:01<00:09, 93.56it/s]"
          ]
        },
        {
          "output_type": "stream",
          "name": "stdout",
          "text": [
            "\n",
            "Epoch 110/1000:\n",
            "Train Loss: 0.6220, Train Pattern Acc: 0.50%\n",
            "Val Loss: 0.6307, Val Pattern Acc: 0.50%\n"
          ]
        },
        {
          "output_type": "stream",
          "name": "stderr",
          "text": [
            "\r 13%|█▎        | 128/1000 [00:01<00:09, 91.98it/s]"
          ]
        },
        {
          "output_type": "stream",
          "name": "stdout",
          "text": [
            "\n",
            "Epoch 120/1000:\n",
            "Train Loss: 0.6121, Train Pattern Acc: 0.50%\n",
            "Val Loss: 0.6209, Val Pattern Acc: 0.50%\n"
          ]
        },
        {
          "output_type": "stream",
          "name": "stderr",
          "text": [
            "\r 14%|█▍        | 138/1000 [00:01<00:09, 89.85it/s]"
          ]
        },
        {
          "output_type": "stream",
          "name": "stdout",
          "text": [
            "\n",
            "Epoch 130/1000:\n",
            "Train Loss: 0.6044, Train Pattern Acc: 0.50%\n",
            "Val Loss: 0.6137, Val Pattern Acc: 0.50%\n"
          ]
        },
        {
          "output_type": "stream",
          "name": "stderr",
          "text": [
            "\r 15%|█▍        | 148/1000 [00:01<00:09, 90.87it/s]"
          ]
        },
        {
          "output_type": "stream",
          "name": "stdout",
          "text": [
            "\n",
            "Epoch 140/1000:\n",
            "Train Loss: 0.5982, Train Pattern Acc: 0.50%\n",
            "Val Loss: 0.6084, Val Pattern Acc: 0.50%\n"
          ]
        },
        {
          "output_type": "stream",
          "name": "stderr",
          "text": [
            "\r 16%|█▌        | 158/1000 [00:01<00:09, 87.95it/s]"
          ]
        },
        {
          "output_type": "stream",
          "name": "stdout",
          "text": [
            "\n",
            "Epoch 150/1000:\n",
            "Train Loss: 0.5932, Train Pattern Acc: 0.50%\n",
            "Val Loss: 0.6041, Val Pattern Acc: 0.50%\n",
            "\n",
            "Epoch 160/1000:\n",
            "Train Loss: 0.5889, Train Pattern Acc: 1.00%\n",
            "Val Loss: 0.6006, Val Pattern Acc: 1.50%\n"
          ]
        },
        {
          "output_type": "stream",
          "name": "stderr",
          "text": [
            "\r 17%|█▋        | 167/1000 [00:01<00:10, 82.95it/s]"
          ]
        },
        {
          "output_type": "stream",
          "name": "stdout",
          "text": [
            "\n",
            "Epoch 170/1000:\n",
            "Train Loss: 0.5850, Train Pattern Acc: 1.80%\n",
            "Val Loss: 0.5976, Val Pattern Acc: 1.50%\n"
          ]
        },
        {
          "output_type": "stream",
          "name": "stderr",
          "text": [
            " 18%|█▊        | 185/1000 [00:02<00:10, 78.00it/s]"
          ]
        },
        {
          "output_type": "stream",
          "name": "stdout",
          "text": [
            "\n",
            "Epoch 180/1000:\n",
            "Train Loss: 0.5817, Train Pattern Acc: 3.40%\n",
            "Val Loss: 0.5950, Val Pattern Acc: 2.00%\n"
          ]
        },
        {
          "output_type": "stream",
          "name": "stderr",
          "text": [
            "\r 19%|█▉        | 193/1000 [00:02<00:10, 77.24it/s]"
          ]
        },
        {
          "output_type": "stream",
          "name": "stdout",
          "text": [
            "\n",
            "Epoch 190/1000:\n",
            "Train Loss: 0.5791, Train Pattern Acc: 4.50%\n",
            "Val Loss: 0.5930, Val Pattern Acc: 2.00%\n"
          ]
        },
        {
          "output_type": "stream",
          "name": "stderr",
          "text": [
            "\r 20%|██        | 201/1000 [00:02<00:10, 77.03it/s]"
          ]
        },
        {
          "output_type": "stream",
          "name": "stdout",
          "text": [
            "\n",
            "Epoch 200/1000:\n",
            "Train Loss: 0.5770, Train Pattern Acc: 4.70%\n",
            "Val Loss: 0.5912, Val Pattern Acc: 2.50%\n"
          ]
        },
        {
          "output_type": "stream",
          "name": "stderr",
          "text": [
            "\r 21%|██        | 209/1000 [00:02<00:10, 76.30it/s]"
          ]
        },
        {
          "output_type": "stream",
          "name": "stdout",
          "text": [
            "\n",
            "Epoch 210/1000:\n",
            "Train Loss: 0.5754, Train Pattern Acc: 5.20%\n",
            "Val Loss: 0.5898, Val Pattern Acc: 2.50%\n"
          ]
        },
        {
          "output_type": "stream",
          "name": "stderr",
          "text": [
            " 22%|██▎       | 225/1000 [00:02<00:10, 75.00it/s]"
          ]
        },
        {
          "output_type": "stream",
          "name": "stdout",
          "text": [
            "\n",
            "Epoch 220/1000:\n",
            "Train Loss: 0.5742, Train Pattern Acc: 5.20%\n",
            "Val Loss: 0.5888, Val Pattern Acc: 2.50%\n"
          ]
        },
        {
          "output_type": "stream",
          "name": "stderr",
          "text": [
            "\r 23%|██▎       | 233/1000 [00:02<00:10, 74.32it/s]"
          ]
        },
        {
          "output_type": "stream",
          "name": "stdout",
          "text": [
            "\n",
            "Epoch 230/1000:\n",
            "Train Loss: 0.5733, Train Pattern Acc: 5.40%\n",
            "Val Loss: 0.5879, Val Pattern Acc: 2.50%\n"
          ]
        },
        {
          "output_type": "stream",
          "name": "stderr",
          "text": [
            "\r 24%|██▍       | 241/1000 [00:02<00:10, 73.62it/s]"
          ]
        },
        {
          "output_type": "stream",
          "name": "stdout",
          "text": [
            "\n",
            "Epoch 240/1000:\n",
            "Train Loss: 0.5726, Train Pattern Acc: 5.70%\n",
            "Val Loss: 0.5873, Val Pattern Acc: 2.50%\n"
          ]
        },
        {
          "output_type": "stream",
          "name": "stderr",
          "text": [
            "\r 25%|██▍       | 249/1000 [00:02<00:10, 73.20it/s]"
          ]
        },
        {
          "output_type": "stream",
          "name": "stdout",
          "text": [
            "\n",
            "Epoch 250/1000:\n",
            "Train Loss: 0.5720, Train Pattern Acc: 5.90%\n",
            "Val Loss: 0.5867, Val Pattern Acc: 2.50%\n"
          ]
        },
        {
          "output_type": "stream",
          "name": "stderr",
          "text": [
            " 27%|██▋       | 266/1000 [00:03<00:09, 76.93it/s]"
          ]
        },
        {
          "output_type": "stream",
          "name": "stdout",
          "text": [
            "\n",
            "Epoch 260/1000:\n",
            "Train Loss: 0.5714, Train Pattern Acc: 5.90%\n",
            "Val Loss: 0.5861, Val Pattern Acc: 2.50%\n"
          ]
        },
        {
          "output_type": "stream",
          "name": "stderr",
          "text": [
            "\r 27%|██▋       | 274/1000 [00:03<00:09, 76.48it/s]"
          ]
        },
        {
          "output_type": "stream",
          "name": "stdout",
          "text": [
            "\n",
            "Epoch 270/1000:\n",
            "Train Loss: 0.5706, Train Pattern Acc: 5.90%\n",
            "Val Loss: 0.5853, Val Pattern Acc: 2.50%\n"
          ]
        },
        {
          "output_type": "stream",
          "name": "stderr",
          "text": [
            "\r 28%|██▊       | 283/1000 [00:03<00:09, 77.83it/s]"
          ]
        },
        {
          "output_type": "stream",
          "name": "stdout",
          "text": [
            "\n",
            "Epoch 280/1000:\n",
            "Train Loss: 0.5696, Train Pattern Acc: 5.90%\n",
            "Val Loss: 0.5845, Val Pattern Acc: 2.50%\n"
          ]
        },
        {
          "output_type": "stream",
          "name": "stderr",
          "text": [
            "\r 29%|██▉       | 292/1000 [00:03<00:08, 79.92it/s]"
          ]
        },
        {
          "output_type": "stream",
          "name": "stdout",
          "text": [
            "\n",
            "Epoch 290/1000:\n",
            "Train Loss: 0.5689, Train Pattern Acc: 5.90%\n",
            "Val Loss: 0.5838, Val Pattern Acc: 2.50%\n"
          ]
        },
        {
          "output_type": "stream",
          "name": "stderr",
          "text": [
            "\r 30%|███       | 301/1000 [00:03<00:08, 82.58it/s]"
          ]
        },
        {
          "output_type": "stream",
          "name": "stdout",
          "text": [
            "\n",
            "Epoch 300/1000:\n",
            "Train Loss: 0.5683, Train Pattern Acc: 6.00%\n",
            "Val Loss: 0.5834, Val Pattern Acc: 2.50%\n"
          ]
        },
        {
          "output_type": "stream",
          "name": "stderr",
          "text": [
            "\r 31%|███       | 310/1000 [00:03<00:08, 80.74it/s]"
          ]
        },
        {
          "output_type": "stream",
          "name": "stdout",
          "text": [
            "\n",
            "Epoch 310/1000:\n",
            "Train Loss: 0.5678, Train Pattern Acc: 6.30%\n",
            "Val Loss: 0.5829, Val Pattern Acc: 3.00%\n"
          ]
        },
        {
          "output_type": "stream",
          "name": "stderr",
          "text": [
            " 33%|███▎      | 328/1000 [00:03<00:07, 85.16it/s]"
          ]
        },
        {
          "output_type": "stream",
          "name": "stdout",
          "text": [
            "\n",
            "Epoch 320/1000:\n",
            "Train Loss: 0.5670, Train Pattern Acc: 6.40%\n",
            "Val Loss: 0.5823, Val Pattern Acc: 3.00%\n"
          ]
        },
        {
          "output_type": "stream",
          "name": "stderr",
          "text": [
            "\r 34%|███▎      | 337/1000 [00:04<00:07, 86.28it/s]"
          ]
        },
        {
          "output_type": "stream",
          "name": "stdout",
          "text": [
            "\n",
            "Epoch 330/1000:\n",
            "Train Loss: 0.5665, Train Pattern Acc: 6.40%\n",
            "Val Loss: 0.5818, Val Pattern Acc: 3.00%\n"
          ]
        },
        {
          "output_type": "stream",
          "name": "stderr",
          "text": [
            "\r 35%|███▍      | 346/1000 [00:04<00:07, 87.33it/s]"
          ]
        },
        {
          "output_type": "stream",
          "name": "stdout",
          "text": [
            "\n",
            "Epoch 340/1000:\n",
            "Train Loss: 0.5660, Train Pattern Acc: 6.40%\n",
            "Val Loss: 0.5814, Val Pattern Acc: 3.00%\n"
          ]
        },
        {
          "output_type": "stream",
          "name": "stderr",
          "text": [
            "\r 36%|███▌      | 355/1000 [00:04<00:07, 88.08it/s]"
          ]
        },
        {
          "output_type": "stream",
          "name": "stdout",
          "text": [
            "\n",
            "Epoch 350/1000:\n",
            "Train Loss: 0.5653, Train Pattern Acc: 6.40%\n",
            "Val Loss: 0.5809, Val Pattern Acc: 3.00%\n"
          ]
        },
        {
          "output_type": "stream",
          "name": "stderr",
          "text": [
            "\r 36%|███▋      | 364/1000 [00:04<00:07, 88.40it/s]"
          ]
        },
        {
          "output_type": "stream",
          "name": "stdout",
          "text": [
            "\n",
            "Epoch 360/1000:\n",
            "Train Loss: 0.5648, Train Pattern Acc: 6.40%\n",
            "Val Loss: 0.5805, Val Pattern Acc: 3.00%\n"
          ]
        },
        {
          "output_type": "stream",
          "name": "stderr",
          "text": [
            "\r 37%|███▋      | 373/1000 [00:04<00:07, 87.27it/s]"
          ]
        },
        {
          "output_type": "stream",
          "name": "stdout",
          "text": [
            "\n",
            "Epoch 370/1000:\n",
            "Train Loss: 0.5644, Train Pattern Acc: 6.40%\n",
            "Val Loss: 0.5802, Val Pattern Acc: 3.00%\n"
          ]
        },
        {
          "output_type": "stream",
          "name": "stderr",
          "text": [
            "\r 38%|███▊      | 382/1000 [00:04<00:07, 85.38it/s]"
          ]
        },
        {
          "output_type": "stream",
          "name": "stdout",
          "text": [
            "\n",
            "Epoch 380/1000:\n",
            "Train Loss: 0.5639, Train Pattern Acc: 6.40%\n",
            "Val Loss: 0.5798, Val Pattern Acc: 3.00%\n"
          ]
        },
        {
          "output_type": "stream",
          "name": "stderr",
          "text": [
            "\r 39%|███▉      | 391/1000 [00:04<00:07, 86.38it/s]"
          ]
        },
        {
          "output_type": "stream",
          "name": "stdout",
          "text": [
            "\n",
            "Epoch 390/1000:\n",
            "Train Loss: 0.5633, Train Pattern Acc: 6.40%\n",
            "Val Loss: 0.5794, Val Pattern Acc: 3.00%\n"
          ]
        },
        {
          "output_type": "stream",
          "name": "stderr",
          "text": [
            "\r 40%|████      | 400/1000 [00:04<00:07, 84.73it/s]"
          ]
        },
        {
          "output_type": "stream",
          "name": "stdout",
          "text": [
            "\n",
            "Epoch 400/1000:\n",
            "Train Loss: 0.5630, Train Pattern Acc: 6.40%\n",
            "Val Loss: 0.5791, Val Pattern Acc: 3.00%\n"
          ]
        },
        {
          "output_type": "stream",
          "name": "stderr",
          "text": [
            " 42%|████▏     | 419/1000 [00:04<00:06, 87.41it/s]"
          ]
        },
        {
          "output_type": "stream",
          "name": "stdout",
          "text": [
            "\n",
            "Epoch 410/1000:\n",
            "Train Loss: 0.5627, Train Pattern Acc: 6.40%\n",
            "Val Loss: 0.5789, Val Pattern Acc: 3.00%\n"
          ]
        },
        {
          "output_type": "stream",
          "name": "stderr",
          "text": [
            "\r 43%|████▎     | 428/1000 [00:05<00:06, 88.03it/s]"
          ]
        },
        {
          "output_type": "stream",
          "name": "stdout",
          "text": [
            "\n",
            "Epoch 420/1000:\n",
            "Train Loss: 0.5625, Train Pattern Acc: 6.40%\n",
            "Val Loss: 0.5787, Val Pattern Acc: 3.00%\n"
          ]
        },
        {
          "output_type": "stream",
          "name": "stderr",
          "text": [
            "\r 44%|████▎     | 437/1000 [00:05<00:06, 88.20it/s]"
          ]
        },
        {
          "output_type": "stream",
          "name": "stdout",
          "text": [
            "\n",
            "Epoch 430/1000:\n",
            "Train Loss: 0.5623, Train Pattern Acc: 6.40%\n",
            "Val Loss: 0.5786, Val Pattern Acc: 3.00%\n"
          ]
        },
        {
          "output_type": "stream",
          "name": "stderr",
          "text": [
            "\r 45%|████▍     | 446/1000 [00:05<00:06, 88.46it/s]"
          ]
        },
        {
          "output_type": "stream",
          "name": "stdout",
          "text": [
            "\n",
            "Epoch 440/1000:\n",
            "Train Loss: 0.5621, Train Pattern Acc: 6.40%\n",
            "Val Loss: 0.5785, Val Pattern Acc: 3.00%\n"
          ]
        },
        {
          "output_type": "stream",
          "name": "stderr",
          "text": [
            "\r 46%|████▌     | 455/1000 [00:05<00:06, 85.21it/s]"
          ]
        },
        {
          "output_type": "stream",
          "name": "stdout",
          "text": [
            "\n",
            "Epoch 450/1000:\n",
            "Train Loss: 0.5619, Train Pattern Acc: 6.40%\n",
            "Val Loss: 0.5783, Val Pattern Acc: 3.00%\n"
          ]
        },
        {
          "output_type": "stream",
          "name": "stderr",
          "text": [
            "\r 46%|████▋     | 464/1000 [00:05<00:06, 81.80it/s]"
          ]
        },
        {
          "output_type": "stream",
          "name": "stdout",
          "text": [
            "\n",
            "Epoch 460/1000:\n",
            "Train Loss: 0.5618, Train Pattern Acc: 6.40%\n",
            "Val Loss: 0.5782, Val Pattern Acc: 3.00%\n"
          ]
        },
        {
          "output_type": "stream",
          "name": "stderr",
          "text": [
            "\r 47%|████▋     | 473/1000 [00:05<00:06, 83.23it/s]"
          ]
        },
        {
          "output_type": "stream",
          "name": "stdout",
          "text": [
            "\n",
            "Epoch 470/1000:\n",
            "Train Loss: 0.5617, Train Pattern Acc: 6.40%\n",
            "Val Loss: 0.5781, Val Pattern Acc: 3.00%\n"
          ]
        },
        {
          "output_type": "stream",
          "name": "stderr",
          "text": [
            "\r 48%|████▊     | 482/1000 [00:05<00:06, 84.84it/s]"
          ]
        },
        {
          "output_type": "stream",
          "name": "stdout",
          "text": [
            "\n",
            "Epoch 480/1000:\n",
            "Train Loss: 0.5616, Train Pattern Acc: 6.40%\n",
            "Val Loss: 0.5780, Val Pattern Acc: 3.00%\n"
          ]
        },
        {
          "output_type": "stream",
          "name": "stderr",
          "text": [
            "\r 49%|████▉     | 491/1000 [00:05<00:06, 81.44it/s]"
          ]
        },
        {
          "output_type": "stream",
          "name": "stdout",
          "text": [
            "\n",
            "Epoch 490/1000:\n",
            "Train Loss: 0.5615, Train Pattern Acc: 6.40%\n",
            "Val Loss: 0.5780, Val Pattern Acc: 3.00%\n"
          ]
        },
        {
          "output_type": "stream",
          "name": "stderr",
          "text": [
            "\r 50%|█████     | 500/1000 [00:05<00:05, 83.39it/s]"
          ]
        },
        {
          "output_type": "stream",
          "name": "stdout",
          "text": [
            "\n",
            "Epoch 500/1000:\n",
            "Train Loss: 0.5614, Train Pattern Acc: 6.40%\n",
            "Val Loss: 0.5779, Val Pattern Acc: 3.00%\n"
          ]
        },
        {
          "output_type": "stream",
          "name": "stderr",
          "text": [
            "\r 51%|█████     | 510/1000 [00:06<00:05, 85.08it/s]"
          ]
        },
        {
          "output_type": "stream",
          "name": "stdout",
          "text": [
            "\n",
            "Epoch 510/1000:\n",
            "Train Loss: 0.5613, Train Pattern Acc: 6.40%\n",
            "Val Loss: 0.5778, Val Pattern Acc: 3.00%\n"
          ]
        },
        {
          "output_type": "stream",
          "name": "stderr",
          "text": [
            "\r 52%|█████▏    | 520/1000 [00:06<00:05, 86.92it/s]"
          ]
        },
        {
          "output_type": "stream",
          "name": "stdout",
          "text": [
            "\n",
            "Epoch 520/1000:\n",
            "Train Loss: 0.5612, Train Pattern Acc: 6.40%\n",
            "Val Loss: 0.5778, Val Pattern Acc: 3.00%\n"
          ]
        },
        {
          "output_type": "stream",
          "name": "stderr",
          "text": [
            "\r 53%|█████▎    | 530/1000 [00:06<00:05, 88.58it/s]"
          ]
        },
        {
          "output_type": "stream",
          "name": "stdout",
          "text": [
            "\n",
            "Epoch 530/1000:\n",
            "Train Loss: 0.5611, Train Pattern Acc: 6.40%\n",
            "Val Loss: 0.5777, Val Pattern Acc: 3.00%\n"
          ]
        },
        {
          "output_type": "stream",
          "name": "stderr",
          "text": [
            " 55%|█████▍    | 549/1000 [00:06<00:05, 88.91it/s]"
          ]
        },
        {
          "output_type": "stream",
          "name": "stdout",
          "text": [
            "\n",
            "Epoch 540/1000:\n",
            "Train Loss: 0.5610, Train Pattern Acc: 6.40%\n",
            "Val Loss: 0.5776, Val Pattern Acc: 3.00%\n"
          ]
        },
        {
          "output_type": "stream",
          "name": "stderr",
          "text": [
            "\r 56%|█████▌    | 558/1000 [00:06<00:05, 87.13it/s]"
          ]
        },
        {
          "output_type": "stream",
          "name": "stdout",
          "text": [
            "\n",
            "Epoch 550/1000:\n",
            "Train Loss: 0.5609, Train Pattern Acc: 6.40%\n",
            "Val Loss: 0.5776, Val Pattern Acc: 3.00%\n"
          ]
        },
        {
          "output_type": "stream",
          "name": "stderr",
          "text": [
            "\r 57%|█████▋    | 567/1000 [00:06<00:04, 87.67it/s]"
          ]
        },
        {
          "output_type": "stream",
          "name": "stdout",
          "text": [
            "\n",
            "Epoch 560/1000:\n",
            "Train Loss: 0.5607, Train Pattern Acc: 6.40%\n",
            "Val Loss: 0.5775, Val Pattern Acc: 3.00%\n"
          ]
        },
        {
          "output_type": "stream",
          "name": "stderr",
          "text": [
            "\r 58%|█████▊    | 576/1000 [00:06<00:04, 87.98it/s]"
          ]
        },
        {
          "output_type": "stream",
          "name": "stdout",
          "text": [
            "\n",
            "Epoch 570/1000:\n",
            "Train Loss: 0.5605, Train Pattern Acc: 6.40%\n",
            "Val Loss: 0.5773, Val Pattern Acc: 3.00%\n"
          ]
        },
        {
          "output_type": "stream",
          "name": "stderr",
          "text": [
            "\r 58%|█████▊    | 585/1000 [00:06<00:04, 88.20it/s]"
          ]
        },
        {
          "output_type": "stream",
          "name": "stdout",
          "text": [
            "\n",
            "Epoch 580/1000:\n",
            "Train Loss: 0.5603, Train Pattern Acc: 6.40%\n",
            "Val Loss: 0.5772, Val Pattern Acc: 3.00%\n"
          ]
        },
        {
          "output_type": "stream",
          "name": "stderr",
          "text": [
            "\r 59%|█████▉    | 594/1000 [00:06<00:04, 87.89it/s]"
          ]
        },
        {
          "output_type": "stream",
          "name": "stdout",
          "text": [
            "\n",
            "Epoch 590/1000:\n",
            "Train Loss: 0.5601, Train Pattern Acc: 6.40%\n",
            "Val Loss: 0.5771, Val Pattern Acc: 3.00%\n"
          ]
        },
        {
          "output_type": "stream",
          "name": "stderr",
          "text": [
            "\r 60%|██████    | 603/1000 [00:07<00:04, 88.23it/s]"
          ]
        },
        {
          "output_type": "stream",
          "name": "stdout",
          "text": [
            "\n",
            "Epoch 600/1000:\n",
            "Train Loss: 0.5599, Train Pattern Acc: 6.40%\n",
            "Val Loss: 0.5770, Val Pattern Acc: 3.00%\n"
          ]
        },
        {
          "output_type": "stream",
          "name": "stderr",
          "text": [
            "\r 61%|██████    | 612/1000 [00:07<00:04, 88.52it/s]"
          ]
        },
        {
          "output_type": "stream",
          "name": "stdout",
          "text": [
            "\n",
            "Epoch 610/1000:\n",
            "Train Loss: 0.5597, Train Pattern Acc: 6.40%\n",
            "Val Loss: 0.5769, Val Pattern Acc: 3.00%\n"
          ]
        },
        {
          "output_type": "stream",
          "name": "stderr",
          "text": [
            "\r 62%|██████▏   | 621/1000 [00:07<00:04, 87.94it/s]"
          ]
        },
        {
          "output_type": "stream",
          "name": "stdout",
          "text": [
            "\n",
            "Epoch 620/1000:\n",
            "Train Loss: 0.5596, Train Pattern Acc: 6.40%\n",
            "Val Loss: 0.5769, Val Pattern Acc: 3.00%\n"
          ]
        },
        {
          "output_type": "stream",
          "name": "stderr",
          "text": [
            "\r 63%|██████▎   | 630/1000 [00:07<00:04, 85.75it/s]"
          ]
        },
        {
          "output_type": "stream",
          "name": "stdout",
          "text": [
            "\n",
            "Epoch 630/1000:\n",
            "Train Loss: 0.5594, Train Pattern Acc: 6.40%\n",
            "Val Loss: 0.5768, Val Pattern Acc: 3.00%\n"
          ]
        },
        {
          "output_type": "stream",
          "name": "stderr",
          "text": [
            " 65%|██████▍   | 648/1000 [00:07<00:04, 86.06it/s]"
          ]
        },
        {
          "output_type": "stream",
          "name": "stdout",
          "text": [
            "\n",
            "Epoch 640/1000:\n",
            "Train Loss: 0.5593, Train Pattern Acc: 6.40%\n",
            "Val Loss: 0.5767, Val Pattern Acc: 3.00%\n"
          ]
        },
        {
          "output_type": "stream",
          "name": "stderr",
          "text": [
            "\r 66%|██████▌   | 657/1000 [00:07<00:03, 86.68it/s]"
          ]
        },
        {
          "output_type": "stream",
          "name": "stdout",
          "text": [
            "\n",
            "Epoch 650/1000:\n",
            "Train Loss: 0.5591, Train Pattern Acc: 6.40%\n",
            "Val Loss: 0.5767, Val Pattern Acc: 3.00%\n"
          ]
        },
        {
          "output_type": "stream",
          "name": "stderr",
          "text": [
            "\r 67%|██████▋   | 666/1000 [00:07<00:03, 86.96it/s]"
          ]
        },
        {
          "output_type": "stream",
          "name": "stdout",
          "text": [
            "\n",
            "Epoch 660/1000:\n",
            "Train Loss: 0.5590, Train Pattern Acc: 6.40%\n",
            "Val Loss: 0.5766, Val Pattern Acc: 3.00%\n"
          ]
        },
        {
          "output_type": "stream",
          "name": "stderr",
          "text": [
            "\r 68%|██████▊   | 675/1000 [00:07<00:03, 87.59it/s]"
          ]
        },
        {
          "output_type": "stream",
          "name": "stdout",
          "text": [
            "\n",
            "Epoch 670/1000:\n",
            "Train Loss: 0.5590, Train Pattern Acc: 6.40%\n",
            "Val Loss: 0.5766, Val Pattern Acc: 3.00%\n"
          ]
        },
        {
          "output_type": "stream",
          "name": "stderr",
          "text": [
            "\r 68%|██████▊   | 684/1000 [00:08<00:03, 88.00it/s]"
          ]
        },
        {
          "output_type": "stream",
          "name": "stdout",
          "text": [
            "\n",
            "Epoch 680/1000:\n",
            "Train Loss: 0.5589, Train Pattern Acc: 6.40%\n",
            "Val Loss: 0.5766, Val Pattern Acc: 3.00%\n"
          ]
        },
        {
          "output_type": "stream",
          "name": "stderr",
          "text": [
            "\r 69%|██████▉   | 693/1000 [00:08<00:03, 88.53it/s]"
          ]
        },
        {
          "output_type": "stream",
          "name": "stdout",
          "text": [
            "\n",
            "Epoch 690/1000:\n",
            "Train Loss: 0.5589, Train Pattern Acc: 6.40%\n",
            "Val Loss: 0.5766, Val Pattern Acc: 3.00%\n"
          ]
        },
        {
          "output_type": "stream",
          "name": "stderr",
          "text": [
            "\r 70%|███████   | 703/1000 [00:08<00:03, 89.30it/s]"
          ]
        },
        {
          "output_type": "stream",
          "name": "stdout",
          "text": [
            "\n",
            "Epoch 700/1000:\n",
            "Train Loss: 0.5589, Train Pattern Acc: 6.40%\n",
            "Val Loss: 0.5766, Val Pattern Acc: 3.00%\n"
          ]
        },
        {
          "output_type": "stream",
          "name": "stderr",
          "text": [
            "\r 71%|███████▏  | 713/1000 [00:08<00:03, 90.29it/s]"
          ]
        },
        {
          "output_type": "stream",
          "name": "stdout",
          "text": [
            "\n",
            "Epoch 710/1000:\n",
            "Train Loss: 0.5589, Train Pattern Acc: 6.40%\n",
            "Val Loss: 0.5766, Val Pattern Acc: 3.00%\n"
          ]
        },
        {
          "output_type": "stream",
          "name": "stderr",
          "text": [
            "\r 72%|███████▏  | 723/1000 [00:08<00:03, 90.15it/s]"
          ]
        },
        {
          "output_type": "stream",
          "name": "stdout",
          "text": [
            "\n",
            "Epoch 720/1000:\n",
            "Train Loss: 0.5589, Train Pattern Acc: 6.40%\n",
            "Val Loss: 0.5766, Val Pattern Acc: 3.00%\n"
          ]
        },
        {
          "output_type": "stream",
          "name": "stderr",
          "text": [
            "\r 73%|███████▎  | 733/1000 [00:08<00:02, 89.50it/s]"
          ]
        },
        {
          "output_type": "stream",
          "name": "stdout",
          "text": [
            "\n",
            "Epoch 730/1000:\n",
            "Train Loss: 0.5589, Train Pattern Acc: 6.40%\n",
            "Val Loss: 0.5766, Val Pattern Acc: 3.00%\n"
          ]
        },
        {
          "output_type": "stream",
          "name": "stderr",
          "text": [
            "\r 74%|███████▍  | 743/1000 [00:08<00:02, 90.22it/s]"
          ]
        },
        {
          "output_type": "stream",
          "name": "stdout",
          "text": [
            "\n",
            "Epoch 740/1000:\n",
            "Train Loss: 0.5589, Train Pattern Acc: 6.40%\n",
            "Val Loss: 0.5766, Val Pattern Acc: 3.00%\n"
          ]
        },
        {
          "output_type": "stream",
          "name": "stderr",
          "text": [
            "\r 75%|███████▌  | 753/1000 [00:08<00:02, 86.58it/s]"
          ]
        },
        {
          "output_type": "stream",
          "name": "stdout",
          "text": [
            "\n",
            "Epoch 750/1000:\n",
            "Train Loss: 0.5589, Train Pattern Acc: 6.40%\n",
            "Val Loss: 0.5766, Val Pattern Acc: 3.00%\n"
          ]
        },
        {
          "output_type": "stream",
          "name": "stderr",
          "text": [
            "\r 76%|███████▌  | 762/1000 [00:08<00:02, 87.13it/s]"
          ]
        },
        {
          "output_type": "stream",
          "name": "stdout",
          "text": [
            "\n",
            "Epoch 760/1000:\n",
            "Train Loss: 0.5589, Train Pattern Acc: 6.40%\n",
            "Val Loss: 0.5766, Val Pattern Acc: 3.00%\n"
          ]
        },
        {
          "output_type": "stream",
          "name": "stderr",
          "text": [
            "\r 77%|███████▋  | 771/1000 [00:09<00:02, 87.57it/s]"
          ]
        },
        {
          "output_type": "stream",
          "name": "stdout",
          "text": [
            "\n",
            "Epoch 770/1000:\n",
            "Train Loss: 0.5589, Train Pattern Acc: 6.40%\n",
            "Val Loss: 0.5766, Val Pattern Acc: 3.00%\n"
          ]
        },
        {
          "output_type": "stream",
          "name": "stderr",
          "text": [
            "\r 78%|███████▊  | 781/1000 [00:09<00:02, 88.34it/s]"
          ]
        },
        {
          "output_type": "stream",
          "name": "stdout",
          "text": [
            "\n",
            "Epoch 780/1000:\n",
            "Train Loss: 0.5589, Train Pattern Acc: 6.40%\n",
            "Val Loss: 0.5766, Val Pattern Acc: 3.00%\n"
          ]
        },
        {
          "output_type": "stream",
          "name": "stderr",
          "text": [
            "\r 79%|███████▉  | 790/1000 [00:09<00:02, 87.05it/s]"
          ]
        },
        {
          "output_type": "stream",
          "name": "stdout",
          "text": [
            "\n",
            "Epoch 790/1000:\n",
            "Train Loss: 0.5589, Train Pattern Acc: 6.40%\n",
            "Val Loss: 0.5766, Val Pattern Acc: 3.00%\n"
          ]
        },
        {
          "output_type": "stream",
          "name": "stderr",
          "text": [
            "\r 80%|████████  | 800/1000 [00:09<00:02, 88.37it/s]"
          ]
        },
        {
          "output_type": "stream",
          "name": "stdout",
          "text": [
            "\n",
            "Epoch 800/1000:\n",
            "Train Loss: 0.5589, Train Pattern Acc: 6.40%\n",
            "Val Loss: 0.5766, Val Pattern Acc: 3.00%\n"
          ]
        },
        {
          "output_type": "stream",
          "name": "stderr",
          "text": [
            "\r 81%|████████  | 810/1000 [00:09<00:02, 88.73it/s]"
          ]
        },
        {
          "output_type": "stream",
          "name": "stdout",
          "text": [
            "\n",
            "Epoch 810/1000:\n",
            "Train Loss: 0.5589, Train Pattern Acc: 6.40%\n",
            "Val Loss: 0.5766, Val Pattern Acc: 3.00%\n"
          ]
        },
        {
          "output_type": "stream",
          "name": "stderr",
          "text": [
            " 83%|████████▎ | 828/1000 [00:09<00:01, 88.57it/s]"
          ]
        },
        {
          "output_type": "stream",
          "name": "stdout",
          "text": [
            "\n",
            "Epoch 820/1000:\n",
            "Train Loss: 0.5589, Train Pattern Acc: 6.40%\n",
            "Val Loss: 0.5766, Val Pattern Acc: 3.00%\n"
          ]
        },
        {
          "output_type": "stream",
          "name": "stderr",
          "text": [
            "\r 84%|████████▎ | 837/1000 [00:09<00:01, 87.62it/s]"
          ]
        },
        {
          "output_type": "stream",
          "name": "stdout",
          "text": [
            "\n",
            "Epoch 830/1000:\n",
            "Train Loss: 0.5589, Train Pattern Acc: 6.40%\n",
            "Val Loss: 0.5766, Val Pattern Acc: 3.00%\n"
          ]
        },
        {
          "output_type": "stream",
          "name": "stderr",
          "text": [
            "\r 85%|████████▍ | 846/1000 [00:09<00:01, 88.02it/s]"
          ]
        },
        {
          "output_type": "stream",
          "name": "stdout",
          "text": [
            "\n",
            "Epoch 840/1000:\n",
            "Train Loss: 0.5589, Train Pattern Acc: 6.40%\n",
            "Val Loss: 0.5766, Val Pattern Acc: 3.00%\n"
          ]
        },
        {
          "output_type": "stream",
          "name": "stderr",
          "text": [
            "\r 86%|████████▌ | 855/1000 [00:09<00:01, 88.39it/s]"
          ]
        },
        {
          "output_type": "stream",
          "name": "stdout",
          "text": [
            "\n",
            "Epoch 850/1000:\n",
            "Train Loss: 0.5589, Train Pattern Acc: 6.40%\n",
            "Val Loss: 0.5766, Val Pattern Acc: 3.00%\n"
          ]
        },
        {
          "output_type": "stream",
          "name": "stderr",
          "text": [
            "\r 86%|████████▋ | 864/1000 [00:10<00:01, 88.46it/s]"
          ]
        },
        {
          "output_type": "stream",
          "name": "stdout",
          "text": [
            "\n",
            "Epoch 860/1000:\n",
            "Train Loss: 0.5589, Train Pattern Acc: 6.40%\n",
            "Val Loss: 0.5766, Val Pattern Acc: 3.00%\n"
          ]
        },
        {
          "output_type": "stream",
          "name": "stderr",
          "text": [
            "\r 87%|████████▋ | 873/1000 [00:10<00:01, 88.02it/s]"
          ]
        },
        {
          "output_type": "stream",
          "name": "stdout",
          "text": [
            "\n",
            "Epoch 870/1000:\n",
            "Train Loss: 0.5589, Train Pattern Acc: 6.40%\n",
            "Val Loss: 0.5766, Val Pattern Acc: 3.00%\n"
          ]
        },
        {
          "output_type": "stream",
          "name": "stderr",
          "text": [
            "\r 88%|████████▊ | 883/1000 [00:10<00:01, 89.13it/s]"
          ]
        },
        {
          "output_type": "stream",
          "name": "stdout",
          "text": [
            "\n",
            "Epoch 880/1000:\n",
            "Train Loss: 0.5589, Train Pattern Acc: 6.40%\n",
            "Val Loss: 0.5766, Val Pattern Acc: 3.00%\n"
          ]
        },
        {
          "output_type": "stream",
          "name": "stderr",
          "text": [
            "\r 89%|████████▉ | 893/1000 [00:10<00:01, 89.84it/s]"
          ]
        },
        {
          "output_type": "stream",
          "name": "stdout",
          "text": [
            "\n",
            "Epoch 890/1000:\n",
            "Train Loss: 0.5589, Train Pattern Acc: 6.40%\n",
            "Val Loss: 0.5766, Val Pattern Acc: 3.00%\n"
          ]
        },
        {
          "output_type": "stream",
          "name": "stderr",
          "text": [
            "\r 90%|█████████ | 902/1000 [00:10<00:01, 88.81it/s]"
          ]
        },
        {
          "output_type": "stream",
          "name": "stdout",
          "text": [
            "\n",
            "Epoch 900/1000:\n",
            "Train Loss: 0.5589, Train Pattern Acc: 6.40%\n",
            "Val Loss: 0.5766, Val Pattern Acc: 3.00%\n"
          ]
        },
        {
          "output_type": "stream",
          "name": "stderr",
          "text": [
            "\r 91%|█████████ | 911/1000 [00:10<00:01, 87.57it/s]"
          ]
        },
        {
          "output_type": "stream",
          "name": "stdout",
          "text": [
            "\n",
            "Epoch 910/1000:\n",
            "Train Loss: 0.5589, Train Pattern Acc: 6.40%\n",
            "Val Loss: 0.5766, Val Pattern Acc: 3.00%\n"
          ]
        },
        {
          "output_type": "stream",
          "name": "stderr",
          "text": [
            "\r 92%|█████████▏| 921/1000 [00:10<00:00, 88.39it/s]"
          ]
        },
        {
          "output_type": "stream",
          "name": "stdout",
          "text": [
            "\n",
            "Epoch 920/1000:\n",
            "Train Loss: 0.5589, Train Pattern Acc: 6.40%\n",
            "Val Loss: 0.5766, Val Pattern Acc: 3.00%\n"
          ]
        },
        {
          "output_type": "stream",
          "name": "stderr",
          "text": [
            "\r 93%|█████████▎| 931/1000 [00:10<00:00, 88.99it/s]"
          ]
        },
        {
          "output_type": "stream",
          "name": "stdout",
          "text": [
            "\n",
            "Epoch 930/1000:\n",
            "Train Loss: 0.5589, Train Pattern Acc: 6.40%\n",
            "Val Loss: 0.5766, Val Pattern Acc: 3.00%\n"
          ]
        },
        {
          "output_type": "stream",
          "name": "stderr",
          "text": [
            "\r 94%|█████████▍| 940/1000 [00:10<00:00, 86.23it/s]"
          ]
        },
        {
          "output_type": "stream",
          "name": "stdout",
          "text": [
            "\n",
            "Epoch 940/1000:\n",
            "Train Loss: 0.5589, Train Pattern Acc: 6.40%\n",
            "Val Loss: 0.5766, Val Pattern Acc: 3.00%\n"
          ]
        },
        {
          "output_type": "stream",
          "name": "stderr",
          "text": [
            " 96%|█████████▌| 959/1000 [00:11<00:00, 88.01it/s]"
          ]
        },
        {
          "output_type": "stream",
          "name": "stdout",
          "text": [
            "\n",
            "Epoch 950/1000:\n",
            "Train Loss: 0.5589, Train Pattern Acc: 6.40%\n",
            "Val Loss: 0.5766, Val Pattern Acc: 3.00%\n"
          ]
        },
        {
          "output_type": "stream",
          "name": "stderr",
          "text": [
            "\r 97%|█████████▋| 968/1000 [00:11<00:00, 88.42it/s]"
          ]
        },
        {
          "output_type": "stream",
          "name": "stdout",
          "text": [
            "\n",
            "Epoch 960/1000:\n",
            "Train Loss: 0.5589, Train Pattern Acc: 6.40%\n",
            "Val Loss: 0.5766, Val Pattern Acc: 3.00%\n"
          ]
        },
        {
          "output_type": "stream",
          "name": "stderr",
          "text": [
            "\r 98%|█████████▊| 978/1000 [00:11<00:00, 89.13it/s]"
          ]
        },
        {
          "output_type": "stream",
          "name": "stdout",
          "text": [
            "\n",
            "Epoch 970/1000:\n",
            "Train Loss: 0.5589, Train Pattern Acc: 6.40%\n",
            "Val Loss: 0.5766, Val Pattern Acc: 3.00%\n"
          ]
        },
        {
          "output_type": "stream",
          "name": "stderr",
          "text": [
            "\r 99%|█████████▊| 987/1000 [00:11<00:00, 88.09it/s]"
          ]
        },
        {
          "output_type": "stream",
          "name": "stdout",
          "text": [
            "\n",
            "Epoch 980/1000:\n",
            "Train Loss: 0.5589, Train Pattern Acc: 6.40%\n",
            "Val Loss: 0.5766, Val Pattern Acc: 3.00%\n"
          ]
        },
        {
          "output_type": "stream",
          "name": "stderr",
          "text": [
            "\r100%|█████████▉| 996/1000 [00:11<00:00, 88.28it/s]"
          ]
        },
        {
          "output_type": "stream",
          "name": "stdout",
          "text": [
            "\n",
            "Epoch 990/1000:\n",
            "Train Loss: 0.5589, Train Pattern Acc: 6.40%\n",
            "Val Loss: 0.5766, Val Pattern Acc: 3.00%\n"
          ]
        },
        {
          "output_type": "stream",
          "name": "stderr",
          "text": [
            "\r100%|██████████| 1000/1000 [00:11<00:00, 86.19it/s]\n"
          ]
        },
        {
          "output_type": "stream",
          "name": "stdout",
          "text": [
            "\n",
            "Generating visualizations...\n",
            "Random Baseline Accuracy: 0.00%\n"
          ]
        },
        {
          "output_type": "display_data",
          "data": {
            "text/plain": [
              "<Figure size 1500x1200 with 4 Axes>"
            ],
            "image/png": "[encoded data removed]"
          },
          "metadata": {}
        },
        {
          "output_type": "display_data",
          "data": {
            "text/plain": [
              "<Figure size 1500x600 with 15 Axes>"
            ],
            "image/png": "[encoded data removed]"
          },
          "metadata": {}
        },
        {
          "output_type": "display_data",
          "data": {
            "text/plain": [
              "<Figure size 1500x600 with 15 Axes>"
            ],
            "image/png": "[encoded data removed]"
          },
          "metadata": {}
        },
        {
          "output_type": "display_data",
          "data": {
            "text/plain": [
              "<Figure size 1500x1200 with 20 Axes>"
            ],
            "image/png": "[encoded data removed]"
          },
          "metadata": {}
        },
        {
          "output_type": "display_data",
          "data": {
            "text/plain": [
              "<Figure size 1500x600 with 15 Axes>"
            ],
            "image/png": "[encoded data removed]"
          },
          "metadata": {}
        },
        {
          "output_type": "display_data",
          "data": {
            "text/plain": [
              "<Figure size 1500x1200 with 20 Axes>"
            ],
            "image/png": "[encoded data removed]"
          },
          "metadata": {}
        },
        {
          "output_type": "stream",
          "name": "stdout",
          "text": [
            "\n",
            "Final Performance Summary:\n",
            "--------------------------------------------------\n",
            "Homogeneous:\n",
            "  Train Accuracy: 0.00%\n",
            "  Validation Accuracy: 0.00%\n",
            "  Improvement over random: -0.00%\n",
            "--------------------------------------------------\n",
            "Modular Homogeneous:\n",
            "  Train Accuracy: 5.50%\n",
            "  Validation Accuracy: 1.50%\n",
            "  Improvement over random: 1.50%\n",
            "--------------------------------------------------\n",
            "Modular Heterogeneous:\n",
            "  Train Accuracy: 6.40%\n",
            "  Validation Accuracy: 3.00%\n",
            "  Improvement over random: 3.00%\n",
            "--------------------------------------------------\n",
            "\n",
            "Experiment completed successfully!\n"
          ]
        }
      ]
    }
  ]
}